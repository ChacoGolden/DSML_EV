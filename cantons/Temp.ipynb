{
 "cells": [
  {
   "cell_type": "code",
   "execution_count": 71,
   "id": "8a4e8320",
   "metadata": {},
   "outputs": [],
   "source": [
    "import pandas as pd\n",
    "import numpy as np\n",
    "import matplotlib.pyplot as plt\n"
   ]
  },
  {
   "cell_type": "markdown",
   "id": "be341a2e",
   "metadata": {},
   "source": [
    "# Temperature"
   ]
  },
  {
   "cell_type": "code",
   "execution_count": 72,
   "id": "38f06b80",
   "metadata": {},
   "outputs": [],
   "source": [
    "data = pd.read_table('C:/Users/simon/Downloads/climate-data-swissmean_regSwiss_1.4.txt', sep='\\t', header=10)"
   ]
  },
  {
   "cell_type": "code",
   "execution_count": 73,
   "id": "31fc2739",
   "metadata": {},
   "outputs": [
    {
     "data": {
      "text/html": [
       "<div>\n",
       "<style scoped>\n",
       "    .dataframe tbody tr th:only-of-type {\n",
       "        vertical-align: middle;\n",
       "    }\n",
       "\n",
       "    .dataframe tbody tr th {\n",
       "        vertical-align: top;\n",
       "    }\n",
       "\n",
       "    .dataframe thead th {\n",
       "        text-align: right;\n",
       "    }\n",
       "</style>\n",
       "<table border=\"1\" class=\"dataframe\">\n",
       "  <thead>\n",
       "    <tr style=\"text-align: right;\">\n",
       "      <th></th>\n",
       "      <th>time</th>\n",
       "      <th>jan</th>\n",
       "      <th>feb</th>\n",
       "      <th>mar</th>\n",
       "      <th>apr</th>\n",
       "      <th>may</th>\n",
       "      <th>jun</th>\n",
       "      <th>jul</th>\n",
       "      <th>aug</th>\n",
       "      <th>sep</th>\n",
       "      <th>oct</th>\n",
       "      <th>nov</th>\n",
       "      <th>dec</th>\n",
       "      <th>djf</th>\n",
       "      <th>mam</th>\n",
       "      <th>jja</th>\n",
       "      <th>son</th>\n",
       "      <th>winter</th>\n",
       "      <th>summer</th>\n",
       "      <th>year</th>\n",
       "    </tr>\n",
       "  </thead>\n",
       "  <tbody>\n",
       "    <tr>\n",
       "      <th>0</th>\n",
       "      <td>1864</td>\n",
       "      <td>-7.10</td>\n",
       "      <td>-4.52</td>\n",
       "      <td>0.04</td>\n",
       "      <td>2.10</td>\n",
       "      <td>7.43</td>\n",
       "      <td>9.48</td>\n",
       "      <td>12.37</td>\n",
       "      <td>10.95</td>\n",
       "      <td>8.59</td>\n",
       "      <td>3.51</td>\n",
       "      <td>-0.51</td>\n",
       "      <td>-4.47</td>\n",
       "      <td>NaN</td>\n",
       "      <td>3.19</td>\n",
       "      <td>10.93</td>\n",
       "      <td>3.86</td>\n",
       "      <td>NaN</td>\n",
       "      <td>8.49</td>\n",
       "      <td>3.16</td>\n",
       "    </tr>\n",
       "    <tr>\n",
       "      <th>1</th>\n",
       "      <td>1865</td>\n",
       "      <td>-3.46</td>\n",
       "      <td>-6.26</td>\n",
       "      <td>-5.91</td>\n",
       "      <td>7.01</td>\n",
       "      <td>10.10</td>\n",
       "      <td>10.98</td>\n",
       "      <td>13.98</td>\n",
       "      <td>11.16</td>\n",
       "      <td>11.89</td>\n",
       "      <td>5.21</td>\n",
       "      <td>1.26</td>\n",
       "      <td>-3.07</td>\n",
       "      <td>-4.73</td>\n",
       "      <td>3.73</td>\n",
       "      <td>12.04</td>\n",
       "      <td>6.12</td>\n",
       "      <td>-2.85</td>\n",
       "      <td>10.85</td>\n",
       "      <td>4.41</td>\n",
       "    </tr>\n",
       "    <tr>\n",
       "      <th>2</th>\n",
       "      <td>1866</td>\n",
       "      <td>-1.31</td>\n",
       "      <td>-0.42</td>\n",
       "      <td>-1.00</td>\n",
       "      <td>4.10</td>\n",
       "      <td>4.96</td>\n",
       "      <td>12.02</td>\n",
       "      <td>12.25</td>\n",
       "      <td>9.99</td>\n",
       "      <td>9.69</td>\n",
       "      <td>5.35</td>\n",
       "      <td>-0.20</td>\n",
       "      <td>-0.49</td>\n",
       "      <td>-1.60</td>\n",
       "      <td>2.68</td>\n",
       "      <td>11.42</td>\n",
       "      <td>4.95</td>\n",
       "      <td>0.11</td>\n",
       "      <td>8.83</td>\n",
       "      <td>4.58</td>\n",
       "    </tr>\n",
       "  </tbody>\n",
       "</table>\n",
       "</div>"
      ],
      "text/plain": [
       "   time   jan   feb   mar   apr    may    jun    jul    aug    sep   oct  \\\n",
       "0  1864 -7.10 -4.52  0.04  2.10   7.43   9.48  12.37  10.95   8.59  3.51   \n",
       "1  1865 -3.46 -6.26 -5.91  7.01  10.10  10.98  13.98  11.16  11.89  5.21   \n",
       "2  1866 -1.31 -0.42 -1.00  4.10   4.96  12.02  12.25   9.99   9.69  5.35   \n",
       "\n",
       "    nov   dec   djf   mam    jja   son  winter  summer  year  \n",
       "0 -0.51 -4.47   NaN  3.19  10.93  3.86     NaN    8.49  3.16  \n",
       "1  1.26 -3.07 -4.73  3.73  12.04  6.12   -2.85   10.85  4.41  \n",
       "2 -0.20 -0.49 -1.60  2.68  11.42  4.95    0.11    8.83  4.58  "
      ]
     },
     "execution_count": 73,
     "metadata": {},
     "output_type": "execute_result"
    }
   ],
   "source": [
    "data.head(3)"
   ]
  },
  {
   "cell_type": "code",
   "execution_count": 74,
   "id": "a92937de",
   "metadata": {},
   "outputs": [
    {
     "data": {
      "text/html": [
       "<div>\n",
       "<style scoped>\n",
       "    .dataframe tbody tr th:only-of-type {\n",
       "        vertical-align: middle;\n",
       "    }\n",
       "\n",
       "    .dataframe tbody tr th {\n",
       "        vertical-align: top;\n",
       "    }\n",
       "\n",
       "    .dataframe thead th {\n",
       "        text-align: right;\n",
       "    }\n",
       "</style>\n",
       "<table border=\"1\" class=\"dataframe\">\n",
       "  <thead>\n",
       "    <tr style=\"text-align: right;\">\n",
       "      <th></th>\n",
       "      <th>time</th>\n",
       "      <th>year</th>\n",
       "    </tr>\n",
       "  </thead>\n",
       "  <tbody>\n",
       "    <tr>\n",
       "      <th>160</th>\n",
       "      <td>2024</td>\n",
       "      <td>7.17</td>\n",
       "    </tr>\n",
       "    <tr>\n",
       "      <th>161</th>\n",
       "      <td>2025</td>\n",
       "      <td>NaN</td>\n",
       "    </tr>\n",
       "  </tbody>\n",
       "</table>\n",
       "</div>"
      ],
      "text/plain": [
       "     time  year\n",
       "160  2024  7.17\n",
       "161  2025   NaN"
      ]
     },
     "execution_count": 74,
     "metadata": {},
     "output_type": "execute_result"
    }
   ],
   "source": [
    "df_temp = data[['time', 'year']]\n",
    "df_temp.tail(2)"
   ]
  },
  {
   "cell_type": "code",
   "execution_count": 75,
   "id": "1ebe3502",
   "metadata": {},
   "outputs": [
    {
     "name": "stderr",
     "output_type": "stream",
     "text": [
      "C:\\Users\\simon\\AppData\\Local\\Temp\\ipykernel_23440\\2835198872.py:1: SettingWithCopyWarning: \n",
      "A value is trying to be set on a copy of a slice from a DataFrame\n",
      "\n",
      "See the caveats in the documentation: https://pandas.pydata.org/pandas-docs/stable/user_guide/indexing.html#returning-a-view-versus-a-copy\n",
      "  df_temp.rename(columns={'time': 'year', 'year':'temp'}, inplace=True)\n"
     ]
    }
   ],
   "source": [
    "df_temp.rename(columns={'time': 'year', 'year':'temp'}, inplace=True)"
   ]
  },
  {
   "cell_type": "code",
   "execution_count": 76,
   "id": "3ed23559",
   "metadata": {},
   "outputs": [
    {
     "data": {
      "text/html": [
       "<div>\n",
       "<style scoped>\n",
       "    .dataframe tbody tr th:only-of-type {\n",
       "        vertical-align: middle;\n",
       "    }\n",
       "\n",
       "    .dataframe tbody tr th {\n",
       "        vertical-align: top;\n",
       "    }\n",
       "\n",
       "    .dataframe thead th {\n",
       "        text-align: right;\n",
       "    }\n",
       "</style>\n",
       "<table border=\"1\" class=\"dataframe\">\n",
       "  <thead>\n",
       "    <tr style=\"text-align: right;\">\n",
       "      <th></th>\n",
       "      <th>year</th>\n",
       "      <th>temp</th>\n",
       "    </tr>\n",
       "  </thead>\n",
       "  <tbody>\n",
       "    <tr>\n",
       "      <th>160</th>\n",
       "      <td>2024</td>\n",
       "      <td>7.17</td>\n",
       "    </tr>\n",
       "    <tr>\n",
       "      <th>161</th>\n",
       "      <td>2025</td>\n",
       "      <td>NaN</td>\n",
       "    </tr>\n",
       "  </tbody>\n",
       "</table>\n",
       "</div>"
      ],
      "text/plain": [
       "     year  temp\n",
       "160  2024  7.17\n",
       "161  2025   NaN"
      ]
     },
     "execution_count": 76,
     "metadata": {},
     "output_type": "execute_result"
    }
   ],
   "source": [
    "df_temp.tail(2)"
   ]
  },
  {
   "cell_type": "markdown",
   "id": "95a98af7",
   "metadata": {},
   "source": [
    "# Pluie"
   ]
  },
  {
   "cell_type": "code",
   "execution_count": 77,
   "id": "bfb22a19",
   "metadata": {},
   "outputs": [],
   "source": [
    "df_pluie = pd.read_csv(f'C:/Users/simon/OneDrive/Bureau/MLPluie/BE.csv', sep=';', header=0)\n",
    "df_pluie['reference_timestamp'] = pd.to_datetime(df_pluie['reference_timestamp'], format='%d.%m.%Y %H:%M')\n",
    "df_pluie['year'] = df_pluie['reference_timestamp'].dt.year\n",
    "df_pluie.drop(columns=['reference_timestamp'], inplace=True)"
   ]
  },
  {
   "cell_type": "code",
   "execution_count": 78,
   "id": "a2d51998",
   "metadata": {},
   "outputs": [
    {
     "data": {
      "text/html": [
       "<div>\n",
       "<style scoped>\n",
       "    .dataframe tbody tr th:only-of-type {\n",
       "        vertical-align: middle;\n",
       "    }\n",
       "\n",
       "    .dataframe tbody tr th {\n",
       "        vertical-align: top;\n",
       "    }\n",
       "\n",
       "    .dataframe thead th {\n",
       "        text-align: right;\n",
       "    }\n",
       "</style>\n",
       "<table border=\"1\" class=\"dataframe\">\n",
       "  <thead>\n",
       "    <tr style=\"text-align: right;\">\n",
       "      <th></th>\n",
       "      <th>station_abbr</th>\n",
       "      <th>rre150y0</th>\n",
       "      <th>year</th>\n",
       "    </tr>\n",
       "  </thead>\n",
       "  <tbody>\n",
       "    <tr>\n",
       "      <th>0</th>\n",
       "      <td>BEP</td>\n",
       "      <td>1067.3</td>\n",
       "      <td>1901</td>\n",
       "    </tr>\n",
       "    <tr>\n",
       "      <th>1</th>\n",
       "      <td>BEP</td>\n",
       "      <td>1123.3</td>\n",
       "      <td>1902</td>\n",
       "    </tr>\n",
       "    <tr>\n",
       "      <th>2</th>\n",
       "      <td>BEP</td>\n",
       "      <td>1032.5</td>\n",
       "      <td>1903</td>\n",
       "    </tr>\n",
       "    <tr>\n",
       "      <th>3</th>\n",
       "      <td>BEP</td>\n",
       "      <td>900.0</td>\n",
       "      <td>1904</td>\n",
       "    </tr>\n",
       "    <tr>\n",
       "      <th>4</th>\n",
       "      <td>BEP</td>\n",
       "      <td>1244.1</td>\n",
       "      <td>1905</td>\n",
       "    </tr>\n",
       "    <tr>\n",
       "      <th>...</th>\n",
       "      <td>...</td>\n",
       "      <td>...</td>\n",
       "      <td>...</td>\n",
       "    </tr>\n",
       "    <tr>\n",
       "      <th>119</th>\n",
       "      <td>BEP</td>\n",
       "      <td>1039.8</td>\n",
       "      <td>2020</td>\n",
       "    </tr>\n",
       "    <tr>\n",
       "      <th>120</th>\n",
       "      <td>BEP</td>\n",
       "      <td>1197.9</td>\n",
       "      <td>2021</td>\n",
       "    </tr>\n",
       "    <tr>\n",
       "      <th>121</th>\n",
       "      <td>BEP</td>\n",
       "      <td>916.9</td>\n",
       "      <td>2022</td>\n",
       "    </tr>\n",
       "    <tr>\n",
       "      <th>122</th>\n",
       "      <td>BEP</td>\n",
       "      <td>1135.2</td>\n",
       "      <td>2023</td>\n",
       "    </tr>\n",
       "    <tr>\n",
       "      <th>123</th>\n",
       "      <td>BEP</td>\n",
       "      <td>1156.6</td>\n",
       "      <td>2024</td>\n",
       "    </tr>\n",
       "  </tbody>\n",
       "</table>\n",
       "<p>124 rows × 3 columns</p>\n",
       "</div>"
      ],
      "text/plain": [
       "    station_abbr  rre150y0  year\n",
       "0            BEP    1067.3  1901\n",
       "1            BEP    1123.3  1902\n",
       "2            BEP    1032.5  1903\n",
       "3            BEP     900.0  1904\n",
       "4            BEP    1244.1  1905\n",
       "..           ...       ...   ...\n",
       "119          BEP    1039.8  2020\n",
       "120          BEP    1197.9  2021\n",
       "121          BEP     916.9  2022\n",
       "122          BEP    1135.2  2023\n",
       "123          BEP    1156.6  2024\n",
       "\n",
       "[124 rows x 3 columns]"
      ]
     },
     "execution_count": 78,
     "metadata": {},
     "output_type": "execute_result"
    }
   ],
   "source": [
    "df_pluie"
   ]
  },
  {
   "cell_type": "code",
   "execution_count": 79,
   "id": "8b2163fb",
   "metadata": {},
   "outputs": [
    {
     "data": {
      "text/html": [
       "<div>\n",
       "<style scoped>\n",
       "    .dataframe tbody tr th:only-of-type {\n",
       "        vertical-align: middle;\n",
       "    }\n",
       "\n",
       "    .dataframe tbody tr th {\n",
       "        vertical-align: top;\n",
       "    }\n",
       "\n",
       "    .dataframe thead th {\n",
       "        text-align: right;\n",
       "    }\n",
       "</style>\n",
       "<table border=\"1\" class=\"dataframe\">\n",
       "  <thead>\n",
       "    <tr style=\"text-align: right;\">\n",
       "      <th></th>\n",
       "      <th>station_abbr</th>\n",
       "      <th>rre150y0</th>\n",
       "      <th>year</th>\n",
       "    </tr>\n",
       "  </thead>\n",
       "  <tbody>\n",
       "    <tr>\n",
       "      <th>1186</th>\n",
       "      <td>OPF</td>\n",
       "      <td>1496.8</td>\n",
       "      <td>1995</td>\n",
       "    </tr>\n",
       "    <tr>\n",
       "      <th>1187</th>\n",
       "      <td>OPF</td>\n",
       "      <td>1539.4</td>\n",
       "      <td>1999</td>\n",
       "    </tr>\n",
       "    <tr>\n",
       "      <th>1188</th>\n",
       "      <td>OPF</td>\n",
       "      <td>1640.6</td>\n",
       "      <td>2001</td>\n",
       "    </tr>\n",
       "  </tbody>\n",
       "</table>\n",
       "</div>"
      ],
      "text/plain": [
       "     station_abbr  rre150y0  year\n",
       "1186          OPF    1496.8  1995\n",
       "1187          OPF    1539.4  1999\n",
       "1188          OPF    1640.6  2001"
      ]
     },
     "execution_count": 79,
     "metadata": {},
     "output_type": "execute_result"
    }
   ],
   "source": [
    "for i in ['BL', 'BS', 'GE', 'LU', 'NE', 'TG', 'TI', 'VD', 'VS', 'ZH']:\n",
    "    data = pd.read_csv(f'C:/Users/simon/OneDrive/Bureau/MLPluie/{i}.csv', sep=';', header=0)\n",
    "    data['reference_timestamp'] = pd.to_datetime(data['reference_timestamp'], format='%d.%m.%Y %H:%M')\n",
    "    data['year'] = data['reference_timestamp'].dt.year\n",
    "    data.drop(columns=['reference_timestamp'], inplace=True)\n",
    "    df_pluie = pd.merge(df_pluie, data, on=['station_abbr', 'rre150y0', 'year'], how='outer', suffixes=('', f'_{i}'))\n",
    "df_pluie.tail(3)"
   ]
  },
  {
   "cell_type": "code",
   "execution_count": 80,
   "id": "37349e2a",
   "metadata": {},
   "outputs": [
    {
     "data": {
      "text/plain": [
       "array(['BEP', 'COU', 'CTO', 'ENT', 'ESZ', 'LAB', 'LON', 'LSN', 'MAB',\n",
       "       'OPF'], dtype=object)"
      ]
     },
     "execution_count": 80,
     "metadata": {},
     "output_type": "execute_result"
    }
   ],
   "source": [
    "df_pluie['station_abbr'].unique()"
   ]
  },
  {
   "cell_type": "code",
   "execution_count": 81,
   "id": "87191ee4",
   "metadata": {},
   "outputs": [],
   "source": [
    "namedict = {\n",
    "    'BEP':'BE_Bern_urban', \n",
    "    'COU':'NE_Chaumont_rural', \n",
    "    'CTO':'TI_Lugano_urban', \n",
    "    'ENT':'LU_Rigi_rural', \n",
    "    'ESZ':'TG_Taenikon_rural', \n",
    "    'LAB':'BL_BaselBinningen_suburban', \n",
    "    'LON':'GE_Meyrin_suburban', \n",
    "    'LSN':'VD_Lausanne_urban', \n",
    "    'MAB':'VS_Saxon_rural',\n",
    "    'OPF':'ZH_Zuerich_urban'\n",
    "}\n",
    "\n",
    "\n",
    "#'BS_Basel_urban'\n",
    " "
   ]
  },
  {
   "cell_type": "code",
   "execution_count": 82,
   "id": "f2fb8f3b",
   "metadata": {},
   "outputs": [],
   "source": [
    "df_pluie['Name'] = df_pluie['station_abbr'].map(namedict)"
   ]
  },
  {
   "cell_type": "code",
   "execution_count": 83,
   "id": "ac69ba12",
   "metadata": {},
   "outputs": [],
   "source": [
    "df_pluie.rename(columns={'rre150y0': 'precip'}, inplace=True)"
   ]
  },
  {
   "cell_type": "markdown",
   "id": "6bf3b0bf",
   "metadata": {},
   "source": [
    "# Climate df"
   ]
  },
  {
   "cell_type": "code",
   "execution_count": 84,
   "id": "aab497a6",
   "metadata": {},
   "outputs": [],
   "source": [
    "climate_df = pd.merge(df_temp, df_pluie, on='year', how='outer')"
   ]
  },
  {
   "cell_type": "code",
   "execution_count": 86,
   "id": "d2e6d5b6",
   "metadata": {},
   "outputs": [],
   "source": [
    "climate_df.dropna(inplace=True)"
   ]
  },
  {
   "cell_type": "code",
   "execution_count": 88,
   "id": "26273fc1",
   "metadata": {},
   "outputs": [],
   "source": [
    "climate_df.drop(columns=['station_abbr'], inplace=True)"
   ]
  },
  {
   "cell_type": "code",
   "execution_count": 89,
   "id": "cf8bb4c2",
   "metadata": {},
   "outputs": [
    {
     "data": {
      "text/html": [
       "<div>\n",
       "<style scoped>\n",
       "    .dataframe tbody tr th:only-of-type {\n",
       "        vertical-align: middle;\n",
       "    }\n",
       "\n",
       "    .dataframe tbody tr th {\n",
       "        vertical-align: top;\n",
       "    }\n",
       "\n",
       "    .dataframe thead th {\n",
       "        text-align: right;\n",
       "    }\n",
       "</style>\n",
       "<table border=\"1\" class=\"dataframe\">\n",
       "  <thead>\n",
       "    <tr style=\"text-align: right;\">\n",
       "      <th></th>\n",
       "      <th>year</th>\n",
       "      <th>temp</th>\n",
       "      <th>precip</th>\n",
       "      <th>Name</th>\n",
       "    </tr>\n",
       "  </thead>\n",
       "  <tbody>\n",
       "    <tr>\n",
       "      <th>10</th>\n",
       "      <td>1874</td>\n",
       "      <td>3.79</td>\n",
       "      <td>810.0</td>\n",
       "      <td>VD_Lausanne_urban</td>\n",
       "    </tr>\n",
       "    <tr>\n",
       "      <th>11</th>\n",
       "      <td>1875</td>\n",
       "      <td>3.85</td>\n",
       "      <td>1073.1</td>\n",
       "      <td>VD_Lausanne_urban</td>\n",
       "    </tr>\n",
       "    <tr>\n",
       "      <th>12</th>\n",
       "      <td>1876</td>\n",
       "      <td>4.23</td>\n",
       "      <td>1095.0</td>\n",
       "      <td>VD_Lausanne_urban</td>\n",
       "    </tr>\n",
       "    <tr>\n",
       "      <th>13</th>\n",
       "      <td>1877</td>\n",
       "      <td>4.06</td>\n",
       "      <td>1149.2</td>\n",
       "      <td>VD_Lausanne_urban</td>\n",
       "    </tr>\n",
       "    <tr>\n",
       "      <th>14</th>\n",
       "      <td>1878</td>\n",
       "      <td>3.53</td>\n",
       "      <td>1243.7</td>\n",
       "      <td>VD_Lausanne_urban</td>\n",
       "    </tr>\n",
       "    <tr>\n",
       "      <th>...</th>\n",
       "      <td>...</td>\n",
       "      <td>...</td>\n",
       "      <td>...</td>\n",
       "      <td>...</td>\n",
       "    </tr>\n",
       "    <tr>\n",
       "      <th>1194</th>\n",
       "      <td>2024</td>\n",
       "      <td>7.17</td>\n",
       "      <td>1386.5</td>\n",
       "      <td>BL_BaselBinningen_suburban</td>\n",
       "    </tr>\n",
       "    <tr>\n",
       "      <th>1195</th>\n",
       "      <td>2024</td>\n",
       "      <td>7.17</td>\n",
       "      <td>1391.6</td>\n",
       "      <td>GE_Meyrin_suburban</td>\n",
       "    </tr>\n",
       "    <tr>\n",
       "      <th>1196</th>\n",
       "      <td>2024</td>\n",
       "      <td>7.17</td>\n",
       "      <td>1206.2</td>\n",
       "      <td>VD_Lausanne_urban</td>\n",
       "    </tr>\n",
       "    <tr>\n",
       "      <th>1197</th>\n",
       "      <td>2024</td>\n",
       "      <td>7.17</td>\n",
       "      <td>934.8</td>\n",
       "      <td>VS_Saxon_rural</td>\n",
       "    </tr>\n",
       "    <tr>\n",
       "      <th>1198</th>\n",
       "      <td>2024</td>\n",
       "      <td>7.17</td>\n",
       "      <td>1172.4</td>\n",
       "      <td>ZH_Zuerich_urban</td>\n",
       "    </tr>\n",
       "  </tbody>\n",
       "</table>\n",
       "<p>1189 rows × 4 columns</p>\n",
       "</div>"
      ],
      "text/plain": [
       "      year  temp  precip                        Name\n",
       "10    1874  3.79   810.0           VD_Lausanne_urban\n",
       "11    1875  3.85  1073.1           VD_Lausanne_urban\n",
       "12    1876  4.23  1095.0           VD_Lausanne_urban\n",
       "13    1877  4.06  1149.2           VD_Lausanne_urban\n",
       "14    1878  3.53  1243.7           VD_Lausanne_urban\n",
       "...    ...   ...     ...                         ...\n",
       "1194  2024  7.17  1386.5  BL_BaselBinningen_suburban\n",
       "1195  2024  7.17  1391.6          GE_Meyrin_suburban\n",
       "1196  2024  7.17  1206.2           VD_Lausanne_urban\n",
       "1197  2024  7.17   934.8              VS_Saxon_rural\n",
       "1198  2024  7.17  1172.4            ZH_Zuerich_urban\n",
       "\n",
       "[1189 rows x 4 columns]"
      ]
     },
     "execution_count": 89,
     "metadata": {},
     "output_type": "execute_result"
    }
   ],
   "source": [
    "climate_df"
   ]
  },
  {
   "cell_type": "code",
   "execution_count": 90,
   "id": "957dce66",
   "metadata": {},
   "outputs": [],
   "source": [
    "climate_df.to_csv('C:/Users/simon/OneDrive/Bureau/MLPluie/climate_df.csv', sep=';', index=False)"
   ]
  },
  {
   "cell_type": "code",
   "execution_count": null,
   "id": "2d435f38",
   "metadata": {},
   "outputs": [],
   "source": []
  }
 ],
 "metadata": {
  "kernelspec": {
   "display_name": "base",
   "language": "python",
   "name": "python3"
  },
  "language_info": {
   "codemirror_mode": {
    "name": "ipython",
    "version": 3
   },
   "file_extension": ".py",
   "mimetype": "text/x-python",
   "name": "python",
   "nbconvert_exporter": "python",
   "pygments_lexer": "ipython3",
   "version": "3.12.4"
  }
 },
 "nbformat": 4,
 "nbformat_minor": 5
}
