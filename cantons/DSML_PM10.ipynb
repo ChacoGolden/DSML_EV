{
 "cells": [
  {
   "cell_type": "code",
   "execution_count": 1,
   "id": "d77ef534",
   "metadata": {},
   "outputs": [],
   "source": [
    "import pandas as pd\n",
    "import numpy as np\n",
    "import matplotlib.pyplot as plt\n"
   ]
  },
  {
   "cell_type": "code",
   "execution_count": 2,
   "id": "298b58d2",
   "metadata": {},
   "outputs": [
    {
     "data": {
      "text/html": [
       "<div>\n",
       "<style scoped>\n",
       "    .dataframe tbody tr th:only-of-type {\n",
       "        vertical-align: middle;\n",
       "    }\n",
       "\n",
       "    .dataframe tbody tr th {\n",
       "        vertical-align: top;\n",
       "    }\n",
       "\n",
       "    .dataframe thead th {\n",
       "        text-align: right;\n",
       "    }\n",
       "</style>\n",
       "<table border=\"1\" class=\"dataframe\">\n",
       "  <thead>\n",
       "    <tr style=\"text-align: right;\">\n",
       "      <th></th>\n",
       "      <th>ParquetFileUrl</th>\n",
       "    </tr>\n",
       "  </thead>\n",
       "  <tbody>\n",
       "    <tr>\n",
       "      <th>0</th>\n",
       "      <td>https://eeadmz1batchservice02.blob.core.window...</td>\n",
       "    </tr>\n",
       "  </tbody>\n",
       "</table>\n",
       "</div>"
      ],
      "text/plain": [
       "                                      ParquetFileUrl\n",
       "0  https://eeadmz1batchservice02.blob.core.window..."
      ]
     },
     "execution_count": 2,
     "metadata": {},
     "output_type": "execute_result"
    }
   ],
   "source": [
    "urlfiles = pd.read_csv('C:/Users/simon/Downloads/ParquetFilesUrls(4).csv')\n",
    "urlfiles.head(1)"
   ]
  },
  {
   "cell_type": "code",
   "execution_count": 3,
   "id": "de634005",
   "metadata": {},
   "outputs": [],
   "source": [
    "stations = ['CH0002R','CH0003R','CH0004R','CH0005A','CH0005R','CH0008A','CH0010A',\n",
    "            'CH0011A','CH0013A','CH0014A','CH0017A','CH0019A','CH0020A','CH0021A',\n",
    "            'CH0022A','CH0024A','CH0028A','CH0029A','CH0031A','CH0033A','CH0041A',\n",
    "            'CH0042A','CH0043A','CH0044A','CH0046A','CH0048A','CH0049A','CH0050A',\n",
    "            'CH0051A','CH0053R','CH0054A','CH0055A','CH0056A','CH0057A','CH0058A',\n",
    "            'CH0060A','CH0061A']"
   ]
  },
  {
   "cell_type": "code",
   "execution_count": 4,
   "id": "31ee86fd",
   "metadata": {},
   "outputs": [],
   "source": [
    "cantons = ['VD','TG','NE','ZH','LU','BL','ZH','TI','ZH','ZH',\n",
    "           'BS','SG','BE','ZH','LU','VS','VD','BS','BE','TI',\n",
    "           'BE','SG','TI','ZH','GE','GE','GE','GE','GE','LU',\n",
    "           'BE','GE','LU','SG','ZH','ZH','VD']"
   ]
  },
  {
   "cell_type": "code",
   "execution_count": 5,
   "id": "54455d36",
   "metadata": {},
   "outputs": [
    {
     "data": {
      "text/html": [
       "<div>\n",
       "<style scoped>\n",
       "    .dataframe tbody tr th:only-of-type {\n",
       "        vertical-align: middle;\n",
       "    }\n",
       "\n",
       "    .dataframe tbody tr th {\n",
       "        vertical-align: top;\n",
       "    }\n",
       "\n",
       "    .dataframe thead th {\n",
       "        text-align: right;\n",
       "    }\n",
       "</style>\n",
       "<table border=\"1\" class=\"dataframe\">\n",
       "  <thead>\n",
       "    <tr style=\"text-align: right;\">\n",
       "      <th></th>\n",
       "      <th>Station</th>\n",
       "      <th>Canton</th>\n",
       "    </tr>\n",
       "  </thead>\n",
       "  <tbody>\n",
       "    <tr>\n",
       "      <th>0</th>\n",
       "      <td>CH0002R</td>\n",
       "      <td>VD</td>\n",
       "    </tr>\n",
       "    <tr>\n",
       "      <th>1</th>\n",
       "      <td>CH0003R</td>\n",
       "      <td>TG</td>\n",
       "    </tr>\n",
       "    <tr>\n",
       "      <th>2</th>\n",
       "      <td>CH0004R</td>\n",
       "      <td>NE</td>\n",
       "    </tr>\n",
       "    <tr>\n",
       "      <th>3</th>\n",
       "      <td>CH0005A</td>\n",
       "      <td>ZH</td>\n",
       "    </tr>\n",
       "    <tr>\n",
       "      <th>4</th>\n",
       "      <td>CH0005R</td>\n",
       "      <td>LU</td>\n",
       "    </tr>\n",
       "  </tbody>\n",
       "</table>\n",
       "</div>"
      ],
      "text/plain": [
       "   Station Canton\n",
       "0  CH0002R     VD\n",
       "1  CH0003R     TG\n",
       "2  CH0004R     NE\n",
       "3  CH0005A     ZH\n",
       "4  CH0005R     LU"
      ]
     },
     "execution_count": 5,
     "metadata": {},
     "output_type": "execute_result"
    }
   ],
   "source": [
    "df = pd.DataFrame({'Station': stations, 'Canton': cantons})\n",
    "df.head()"
   ]
  },
  {
   "cell_type": "code",
   "execution_count": 6,
   "id": "18250826",
   "metadata": {},
   "outputs": [
    {
     "data": {
      "text/plain": [
       "37"
      ]
     },
     "execution_count": 6,
     "metadata": {},
     "output_type": "execute_result"
    }
   ],
   "source": [
    "len(stations)"
   ]
  },
  {
   "cell_type": "code",
   "execution_count": 7,
   "id": "251b1ad8",
   "metadata": {},
   "outputs": [
    {
     "data": {
      "text/plain": [
       "(37, 1)"
      ]
     },
     "execution_count": 7,
     "metadata": {},
     "output_type": "execute_result"
    }
   ],
   "source": [
    "urlfiles.shape"
   ]
  },
  {
   "cell_type": "code",
   "execution_count": 8,
   "id": "0a8d4170",
   "metadata": {},
   "outputs": [
    {
     "data": {
      "text/plain": [
       "(4003, 12)"
      ]
     },
     "execution_count": 8,
     "metadata": {},
     "output_type": "execute_result"
    }
   ],
   "source": [
    "vd_CH0002R = pd.read_parquet(urlfiles['ParquetFileUrl'][0])\n",
    "vd_CH0002R.shape"
   ]
  },
  {
   "cell_type": "code",
   "execution_count": 9,
   "id": "97f36a6e",
   "metadata": {},
   "outputs": [],
   "source": [
    "dataframes = {}\n",
    "\n",
    "for i in range(0, len(stations)):\n",
    "    key = f\"{df['Canton'][i]}_{df['Station'][i]}\"\n",
    "    dataframes[key] = pd.read_parquet(urlfiles['ParquetFileUrl'][i])"
   ]
  },
  {
   "cell_type": "code",
   "execution_count": 10,
   "id": "f267e3c9",
   "metadata": {},
   "outputs": [
    {
     "data": {
      "text/plain": [
       "37"
      ]
     },
     "execution_count": 10,
     "metadata": {},
     "output_type": "execute_result"
    }
   ],
   "source": [
    "len(dataframes)"
   ]
  },
  {
   "cell_type": "code",
   "execution_count": 11,
   "id": "0ad8ea84",
   "metadata": {},
   "outputs": [
    {
     "data": {
      "text/plain": [
       "dict_keys(['VD_CH0002R', 'TG_CH0003R', 'NE_CH0004R', 'ZH_CH0005A', 'LU_CH0005R', 'BL_CH0008A', 'ZH_CH0010A', 'TI_CH0011A', 'ZH_CH0013A', 'ZH_CH0014A', 'BS_CH0017A', 'SG_CH0019A', 'BE_CH0020A', 'ZH_CH0021A', 'LU_CH0022A', 'VS_CH0024A', 'VD_CH0028A', 'BS_CH0029A', 'BE_CH0031A', 'TI_CH0033A', 'BE_CH0041A', 'SG_CH0042A', 'TI_CH0043A', 'ZH_CH0044A', 'GE_CH0046A', 'GE_CH0048A', 'GE_CH0049A', 'GE_CH0050A', 'GE_CH0051A', 'LU_CH0053R', 'BE_CH0054A', 'GE_CH0055A', 'LU_CH0056A', 'SG_CH0057A', 'ZH_CH0058A', 'ZH_CH0060A', 'VD_CH0061A'])"
      ]
     },
     "execution_count": 11,
     "metadata": {},
     "output_type": "execute_result"
    }
   ],
   "source": [
    "dataframes.keys()"
   ]
  },
  {
   "cell_type": "code",
   "execution_count": 12,
   "id": "a29c08a1",
   "metadata": {},
   "outputs": [
    {
     "data": {
      "text/html": [
       "<div>\n",
       "<style scoped>\n",
       "    .dataframe tbody tr th:only-of-type {\n",
       "        vertical-align: middle;\n",
       "    }\n",
       "\n",
       "    .dataframe tbody tr th {\n",
       "        vertical-align: top;\n",
       "    }\n",
       "\n",
       "    .dataframe thead th {\n",
       "        text-align: right;\n",
       "    }\n",
       "</style>\n",
       "<table border=\"1\" class=\"dataframe\">\n",
       "  <thead>\n",
       "    <tr style=\"text-align: right;\">\n",
       "      <th></th>\n",
       "      <th>Samplingpoint</th>\n",
       "      <th>Pollutant</th>\n",
       "      <th>Start</th>\n",
       "      <th>End</th>\n",
       "      <th>Value</th>\n",
       "      <th>Unit</th>\n",
       "      <th>AggType</th>\n",
       "      <th>Validity</th>\n",
       "      <th>Verification</th>\n",
       "      <th>ResultTime</th>\n",
       "      <th>DataCapture</th>\n",
       "      <th>FkObservationLog</th>\n",
       "    </tr>\n",
       "  </thead>\n",
       "  <tbody>\n",
       "    <tr>\n",
       "      <th>0</th>\n",
       "      <td>CH/SPO-CH0002R_00005_100</td>\n",
       "      <td>5</td>\n",
       "      <td>2013-01-01</td>\n",
       "      <td>2013-01-02</td>\n",
       "      <td>7.400000000000000000</td>\n",
       "      <td>ug.m-3</td>\n",
       "      <td>day</td>\n",
       "      <td>1</td>\n",
       "      <td>1</td>\n",
       "      <td>2014-09-16 10:45:03</td>\n",
       "      <td>None</td>\n",
       "      <td>9c0763ec-111e-425d-a325-751af4ff148b</td>\n",
       "    </tr>\n",
       "    <tr>\n",
       "      <th>1</th>\n",
       "      <td>CH/SPO-CH0002R_00005_100</td>\n",
       "      <td>5</td>\n",
       "      <td>2013-01-03</td>\n",
       "      <td>2013-01-04</td>\n",
       "      <td>14.100000000000000000</td>\n",
       "      <td>ug.m-3</td>\n",
       "      <td>day</td>\n",
       "      <td>1</td>\n",
       "      <td>1</td>\n",
       "      <td>2014-12-02 10:13:17</td>\n",
       "      <td>None</td>\n",
       "      <td>7cf9232c-bc8d-435f-9c81-d87223b6c8d2</td>\n",
       "    </tr>\n",
       "    <tr>\n",
       "      <th>2</th>\n",
       "      <td>CH/SPO-CH0002R_00005_100</td>\n",
       "      <td>5</td>\n",
       "      <td>2013-01-04</td>\n",
       "      <td>2013-01-05</td>\n",
       "      <td>23.200000000000000000</td>\n",
       "      <td>ug.m-3</td>\n",
       "      <td>day</td>\n",
       "      <td>1</td>\n",
       "      <td>1</td>\n",
       "      <td>2014-09-16 10:45:03</td>\n",
       "      <td>None</td>\n",
       "      <td>9c0763ec-111e-425d-a325-751af4ff148b</td>\n",
       "    </tr>\n",
       "    <tr>\n",
       "      <th>3</th>\n",
       "      <td>CH/SPO-CH0002R_00005_100</td>\n",
       "      <td>5</td>\n",
       "      <td>2013-01-05</td>\n",
       "      <td>2013-01-06</td>\n",
       "      <td>16.000000000000000000</td>\n",
       "      <td>ug.m-3</td>\n",
       "      <td>day</td>\n",
       "      <td>1</td>\n",
       "      <td>1</td>\n",
       "      <td>2014-09-16 10:45:03</td>\n",
       "      <td>None</td>\n",
       "      <td>9c0763ec-111e-425d-a325-751af4ff148b</td>\n",
       "    </tr>\n",
       "    <tr>\n",
       "      <th>4</th>\n",
       "      <td>CH/SPO-CH0002R_00005_100</td>\n",
       "      <td>5</td>\n",
       "      <td>2013-01-06</td>\n",
       "      <td>2013-01-07</td>\n",
       "      <td>10.400000000000000000</td>\n",
       "      <td>ug.m-3</td>\n",
       "      <td>day</td>\n",
       "      <td>1</td>\n",
       "      <td>1</td>\n",
       "      <td>2014-09-16 10:45:03</td>\n",
       "      <td>None</td>\n",
       "      <td>9c0763ec-111e-425d-a325-751af4ff148b</td>\n",
       "    </tr>\n",
       "    <tr>\n",
       "      <th>...</th>\n",
       "      <td>...</td>\n",
       "      <td>...</td>\n",
       "      <td>...</td>\n",
       "      <td>...</td>\n",
       "      <td>...</td>\n",
       "      <td>...</td>\n",
       "      <td>...</td>\n",
       "      <td>...</td>\n",
       "      <td>...</td>\n",
       "      <td>...</td>\n",
       "      <td>...</td>\n",
       "      <td>...</td>\n",
       "    </tr>\n",
       "    <tr>\n",
       "      <th>3998</th>\n",
       "      <td>CH/SPO-CH0002R_00005_100</td>\n",
       "      <td>5</td>\n",
       "      <td>2023-12-27</td>\n",
       "      <td>2023-12-28</td>\n",
       "      <td>10.170400000000000000</td>\n",
       "      <td>ug.m-3</td>\n",
       "      <td>day</td>\n",
       "      <td>1</td>\n",
       "      <td>1</td>\n",
       "      <td>2024-09-25 15:59:11</td>\n",
       "      <td>None</td>\n",
       "      <td>61ea31ec-dafa-47c5-ac09-b59d5662d124</td>\n",
       "    </tr>\n",
       "    <tr>\n",
       "      <th>3999</th>\n",
       "      <td>CH/SPO-CH0002R_00005_100</td>\n",
       "      <td>5</td>\n",
       "      <td>2023-12-28</td>\n",
       "      <td>2023-12-29</td>\n",
       "      <td>8.279700000000000000</td>\n",
       "      <td>ug.m-3</td>\n",
       "      <td>day</td>\n",
       "      <td>1</td>\n",
       "      <td>1</td>\n",
       "      <td>2024-09-25 15:59:11</td>\n",
       "      <td>None</td>\n",
       "      <td>61ea31ec-dafa-47c5-ac09-b59d5662d124</td>\n",
       "    </tr>\n",
       "    <tr>\n",
       "      <th>4000</th>\n",
       "      <td>CH/SPO-CH0002R_00005_100</td>\n",
       "      <td>5</td>\n",
       "      <td>2023-12-29</td>\n",
       "      <td>2023-12-30</td>\n",
       "      <td>5.286300000000000000</td>\n",
       "      <td>ug.m-3</td>\n",
       "      <td>day</td>\n",
       "      <td>1</td>\n",
       "      <td>1</td>\n",
       "      <td>2024-09-25 15:59:11</td>\n",
       "      <td>None</td>\n",
       "      <td>61ea31ec-dafa-47c5-ac09-b59d5662d124</td>\n",
       "    </tr>\n",
       "    <tr>\n",
       "      <th>4001</th>\n",
       "      <td>CH/SPO-CH0002R_00005_100</td>\n",
       "      <td>5</td>\n",
       "      <td>2023-12-30</td>\n",
       "      <td>2023-12-31</td>\n",
       "      <td>8.405300000000000000</td>\n",
       "      <td>ug.m-3</td>\n",
       "      <td>day</td>\n",
       "      <td>1</td>\n",
       "      <td>1</td>\n",
       "      <td>2024-09-25 15:59:11</td>\n",
       "      <td>None</td>\n",
       "      <td>61ea31ec-dafa-47c5-ac09-b59d5662d124</td>\n",
       "    </tr>\n",
       "    <tr>\n",
       "      <th>4002</th>\n",
       "      <td>CH/SPO-CH0002R_00005_100</td>\n",
       "      <td>5</td>\n",
       "      <td>2023-12-31</td>\n",
       "      <td>2024-01-01</td>\n",
       "      <td>6.119400000000000000</td>\n",
       "      <td>ug.m-3</td>\n",
       "      <td>day</td>\n",
       "      <td>1</td>\n",
       "      <td>1</td>\n",
       "      <td>2024-09-25 15:59:11</td>\n",
       "      <td>None</td>\n",
       "      <td>61ea31ec-dafa-47c5-ac09-b59d5662d124</td>\n",
       "    </tr>\n",
       "  </tbody>\n",
       "</table>\n",
       "<p>4003 rows × 12 columns</p>\n",
       "</div>"
      ],
      "text/plain": [
       "                 Samplingpoint  Pollutant      Start        End  \\\n",
       "0     CH/SPO-CH0002R_00005_100          5 2013-01-01 2013-01-02   \n",
       "1     CH/SPO-CH0002R_00005_100          5 2013-01-03 2013-01-04   \n",
       "2     CH/SPO-CH0002R_00005_100          5 2013-01-04 2013-01-05   \n",
       "3     CH/SPO-CH0002R_00005_100          5 2013-01-05 2013-01-06   \n",
       "4     CH/SPO-CH0002R_00005_100          5 2013-01-06 2013-01-07   \n",
       "...                        ...        ...        ...        ...   \n",
       "3998  CH/SPO-CH0002R_00005_100          5 2023-12-27 2023-12-28   \n",
       "3999  CH/SPO-CH0002R_00005_100          5 2023-12-28 2023-12-29   \n",
       "4000  CH/SPO-CH0002R_00005_100          5 2023-12-29 2023-12-30   \n",
       "4001  CH/SPO-CH0002R_00005_100          5 2023-12-30 2023-12-31   \n",
       "4002  CH/SPO-CH0002R_00005_100          5 2023-12-31 2024-01-01   \n",
       "\n",
       "                      Value    Unit AggType  Validity  Verification  \\\n",
       "0      7.400000000000000000  ug.m-3     day         1             1   \n",
       "1     14.100000000000000000  ug.m-3     day         1             1   \n",
       "2     23.200000000000000000  ug.m-3     day         1             1   \n",
       "3     16.000000000000000000  ug.m-3     day         1             1   \n",
       "4     10.400000000000000000  ug.m-3     day         1             1   \n",
       "...                     ...     ...     ...       ...           ...   \n",
       "3998  10.170400000000000000  ug.m-3     day         1             1   \n",
       "3999   8.279700000000000000  ug.m-3     day         1             1   \n",
       "4000   5.286300000000000000  ug.m-3     day         1             1   \n",
       "4001   8.405300000000000000  ug.m-3     day         1             1   \n",
       "4002   6.119400000000000000  ug.m-3     day         1             1   \n",
       "\n",
       "              ResultTime DataCapture                      FkObservationLog  \n",
       "0    2014-09-16 10:45:03        None  9c0763ec-111e-425d-a325-751af4ff148b  \n",
       "1    2014-12-02 10:13:17        None  7cf9232c-bc8d-435f-9c81-d87223b6c8d2  \n",
       "2    2014-09-16 10:45:03        None  9c0763ec-111e-425d-a325-751af4ff148b  \n",
       "3    2014-09-16 10:45:03        None  9c0763ec-111e-425d-a325-751af4ff148b  \n",
       "4    2014-09-16 10:45:03        None  9c0763ec-111e-425d-a325-751af4ff148b  \n",
       "...                  ...         ...                                   ...  \n",
       "3998 2024-09-25 15:59:11        None  61ea31ec-dafa-47c5-ac09-b59d5662d124  \n",
       "3999 2024-09-25 15:59:11        None  61ea31ec-dafa-47c5-ac09-b59d5662d124  \n",
       "4000 2024-09-25 15:59:11        None  61ea31ec-dafa-47c5-ac09-b59d5662d124  \n",
       "4001 2024-09-25 15:59:11        None  61ea31ec-dafa-47c5-ac09-b59d5662d124  \n",
       "4002 2024-09-25 15:59:11        None  61ea31ec-dafa-47c5-ac09-b59d5662d124  \n",
       "\n",
       "[4003 rows x 12 columns]"
      ]
     },
     "execution_count": 12,
     "metadata": {},
     "output_type": "execute_result"
    }
   ],
   "source": [
    "dataframes['VD_CH0002R']"
   ]
  },
  {
   "cell_type": "code",
   "execution_count": 13,
   "id": "0668de80",
   "metadata": {},
   "outputs": [],
   "source": [
    "merged_df = pd.DataFrame() \n",
    "for i in dataframes.keys():\n",
    "    if merged_df.empty:\n",
    "        merged_df = dataframes[i]\n",
    "    else:\n",
    "        merged_df = pd.concat([merged_df, dataframes[i]], ignore_index=True)\n",
    "\n",
    "    "
   ]
  },
  {
   "cell_type": "code",
   "execution_count": 14,
   "id": "de9489d0",
   "metadata": {},
   "outputs": [
    {
     "data": {
      "text/plain": [
       "(113587, 12)"
      ]
     },
     "execution_count": 14,
     "metadata": {},
     "output_type": "execute_result"
    }
   ],
   "source": [
    "merged_df.shape"
   ]
  },
  {
   "cell_type": "code",
   "execution_count": 15,
   "id": "e91da1aa",
   "metadata": {},
   "outputs": [],
   "source": [
    "fullname = ['CH/SPO-CH0002R_00005_100','CH/SPO-CH0003R_00005_100','CH/SPO-CH0004R_00005_100',\n",
    "'CH/SPO-CH0005A_00005_100','CH/SPO-CH0005R_00005_100','CH/SPO-CH0008A_00005_100','CH/SPO-CH0010A_00005_100',\n",
    "'CH/SPO-CH0011A_00005_100','CH/SPO-CH0013A_00005_100','CH/SPO-CH0014A_00005_100','CH/SPO-CH0017A_00005_100',\n",
    "'CH/SPO-CH0019A_00005_100','CH/SPO-CH0020A_00005_100','CH/SPO-CH0021A_00005_100','CH/SPO-CH0022A_00005_100',\n",
    "'CH/SPO-CH0024A_00005_100','CH/SPO-CH0028A_00005_100','CH/SPO-CH0029A_00005_100','CH/SPO-CH0031A_00005_100',\n",
    "'CH/SPO-CH0033A_00005_100','CH/SPO-CH0041A_00005_100','CH/SPO-CH0042A_00005_100','CH/SPO-CH0043A_00005_100',\n",
    "'CH/SPO-CH0044A_00005_100','CH/SPO-CH0046A_00005_100','CH/SPO-CH0048A_00005_100','CH/SPO-CH0049A_00005_100',\n",
    "'CH/SPO-CH0050A_00005_100','CH/SPO-CH0051A_00005_100','CH/SPO-CH0053R_00005_100','CH/SPO-CH0054A_00005_100',\n",
    "'CH/SPO-CH0055A_00005_100','CH/SPO-CH0056A_00005_100','CH/SPO-CH0057A_00005_100','CH/SPO-CH0058A_00005_100',\n",
    "'CH/SPO-CH0060A_00005_100','CH/SPO-CH0061A_00005_100']"
   ]
  },
  {
   "cell_type": "code",
   "execution_count": 16,
   "id": "a3e57a66",
   "metadata": {},
   "outputs": [
    {
     "data": {
      "text/html": [
       "<div>\n",
       "<style scoped>\n",
       "    .dataframe tbody tr th:only-of-type {\n",
       "        vertical-align: middle;\n",
       "    }\n",
       "\n",
       "    .dataframe tbody tr th {\n",
       "        vertical-align: top;\n",
       "    }\n",
       "\n",
       "    .dataframe thead th {\n",
       "        text-align: right;\n",
       "    }\n",
       "</style>\n",
       "<table border=\"1\" class=\"dataframe\">\n",
       "  <thead>\n",
       "    <tr style=\"text-align: right;\">\n",
       "      <th></th>\n",
       "      <th>Station</th>\n",
       "      <th>Canton</th>\n",
       "      <th>fullname</th>\n",
       "    </tr>\n",
       "  </thead>\n",
       "  <tbody>\n",
       "    <tr>\n",
       "      <th>0</th>\n",
       "      <td>CH0002R</td>\n",
       "      <td>VD</td>\n",
       "      <td>CH/SPO-CH0002R_00005_100</td>\n",
       "    </tr>\n",
       "    <tr>\n",
       "      <th>1</th>\n",
       "      <td>CH0003R</td>\n",
       "      <td>TG</td>\n",
       "      <td>CH/SPO-CH0003R_00005_100</td>\n",
       "    </tr>\n",
       "    <tr>\n",
       "      <th>2</th>\n",
       "      <td>CH0004R</td>\n",
       "      <td>NE</td>\n",
       "      <td>CH/SPO-CH0004R_00005_100</td>\n",
       "    </tr>\n",
       "    <tr>\n",
       "      <th>3</th>\n",
       "      <td>CH0005A</td>\n",
       "      <td>ZH</td>\n",
       "      <td>CH/SPO-CH0005A_00005_100</td>\n",
       "    </tr>\n",
       "    <tr>\n",
       "      <th>4</th>\n",
       "      <td>CH0005R</td>\n",
       "      <td>LU</td>\n",
       "      <td>CH/SPO-CH0005R_00005_100</td>\n",
       "    </tr>\n",
       "  </tbody>\n",
       "</table>\n",
       "</div>"
      ],
      "text/plain": [
       "   Station Canton                  fullname\n",
       "0  CH0002R     VD  CH/SPO-CH0002R_00005_100\n",
       "1  CH0003R     TG  CH/SPO-CH0003R_00005_100\n",
       "2  CH0004R     NE  CH/SPO-CH0004R_00005_100\n",
       "3  CH0005A     ZH  CH/SPO-CH0005A_00005_100\n",
       "4  CH0005R     LU  CH/SPO-CH0005R_00005_100"
      ]
     },
     "execution_count": 16,
     "metadata": {},
     "output_type": "execute_result"
    }
   ],
   "source": [
    "df['fullname'] = fullname\n",
    "df.head()"
   ]
  },
  {
   "cell_type": "code",
   "execution_count": 17,
   "id": "cf4c8db8",
   "metadata": {},
   "outputs": [
    {
     "data": {
      "text/html": [
       "<div>\n",
       "<style scoped>\n",
       "    .dataframe tbody tr th:only-of-type {\n",
       "        vertical-align: middle;\n",
       "    }\n",
       "\n",
       "    .dataframe tbody tr th {\n",
       "        vertical-align: top;\n",
       "    }\n",
       "\n",
       "    .dataframe thead th {\n",
       "        text-align: right;\n",
       "    }\n",
       "</style>\n",
       "<table border=\"1\" class=\"dataframe\">\n",
       "  <thead>\n",
       "    <tr style=\"text-align: right;\">\n",
       "      <th></th>\n",
       "      <th>Samplingpoint</th>\n",
       "      <th>Pollutant</th>\n",
       "      <th>Start</th>\n",
       "      <th>End</th>\n",
       "      <th>Value</th>\n",
       "      <th>Unit</th>\n",
       "      <th>AggType</th>\n",
       "      <th>Validity</th>\n",
       "      <th>Verification</th>\n",
       "      <th>ResultTime</th>\n",
       "      <th>DataCapture</th>\n",
       "      <th>FkObservationLog</th>\n",
       "    </tr>\n",
       "  </thead>\n",
       "  <tbody>\n",
       "    <tr>\n",
       "      <th>0</th>\n",
       "      <td>CH/SPO-CH0002R_00005_100</td>\n",
       "      <td>5</td>\n",
       "      <td>2013-01-01</td>\n",
       "      <td>2013-01-02</td>\n",
       "      <td>7.400000000000000000</td>\n",
       "      <td>ug.m-3</td>\n",
       "      <td>day</td>\n",
       "      <td>1</td>\n",
       "      <td>1</td>\n",
       "      <td>2014-09-16 10:45:03</td>\n",
       "      <td>None</td>\n",
       "      <td>9c0763ec-111e-425d-a325-751af4ff148b</td>\n",
       "    </tr>\n",
       "    <tr>\n",
       "      <th>1</th>\n",
       "      <td>CH/SPO-CH0002R_00005_100</td>\n",
       "      <td>5</td>\n",
       "      <td>2013-01-03</td>\n",
       "      <td>2013-01-04</td>\n",
       "      <td>14.100000000000000000</td>\n",
       "      <td>ug.m-3</td>\n",
       "      <td>day</td>\n",
       "      <td>1</td>\n",
       "      <td>1</td>\n",
       "      <td>2014-12-02 10:13:17</td>\n",
       "      <td>None</td>\n",
       "      <td>7cf9232c-bc8d-435f-9c81-d87223b6c8d2</td>\n",
       "    </tr>\n",
       "    <tr>\n",
       "      <th>2</th>\n",
       "      <td>CH/SPO-CH0002R_00005_100</td>\n",
       "      <td>5</td>\n",
       "      <td>2013-01-04</td>\n",
       "      <td>2013-01-05</td>\n",
       "      <td>23.200000000000000000</td>\n",
       "      <td>ug.m-3</td>\n",
       "      <td>day</td>\n",
       "      <td>1</td>\n",
       "      <td>1</td>\n",
       "      <td>2014-09-16 10:45:03</td>\n",
       "      <td>None</td>\n",
       "      <td>9c0763ec-111e-425d-a325-751af4ff148b</td>\n",
       "    </tr>\n",
       "  </tbody>\n",
       "</table>\n",
       "</div>"
      ],
      "text/plain": [
       "              Samplingpoint  Pollutant      Start        End  \\\n",
       "0  CH/SPO-CH0002R_00005_100          5 2013-01-01 2013-01-02   \n",
       "1  CH/SPO-CH0002R_00005_100          5 2013-01-03 2013-01-04   \n",
       "2  CH/SPO-CH0002R_00005_100          5 2013-01-04 2013-01-05   \n",
       "\n",
       "                   Value    Unit AggType  Validity  Verification  \\\n",
       "0   7.400000000000000000  ug.m-3     day         1             1   \n",
       "1  14.100000000000000000  ug.m-3     day         1             1   \n",
       "2  23.200000000000000000  ug.m-3     day         1             1   \n",
       "\n",
       "           ResultTime DataCapture                      FkObservationLog  \n",
       "0 2014-09-16 10:45:03        None  9c0763ec-111e-425d-a325-751af4ff148b  \n",
       "1 2014-12-02 10:13:17        None  7cf9232c-bc8d-435f-9c81-d87223b6c8d2  \n",
       "2 2014-09-16 10:45:03        None  9c0763ec-111e-425d-a325-751af4ff148b  "
      ]
     },
     "execution_count": 17,
     "metadata": {},
     "output_type": "execute_result"
    }
   ],
   "source": [
    "merged_df.head(3)"
   ]
  },
  {
   "cell_type": "code",
   "execution_count": 18,
   "id": "a187d839",
   "metadata": {},
   "outputs": [],
   "source": [
    "# replace the samplingpoint with the fullname\n",
    "merged_df['Samplingpoint'] = merged_df['Samplingpoint'].replace(df.set_index('fullname')['Station'].to_dict())"
   ]
  },
  {
   "cell_type": "code",
   "execution_count": 19,
   "id": "0505eb92",
   "metadata": {},
   "outputs": [
    {
     "data": {
      "text/html": [
       "<div>\n",
       "<style scoped>\n",
       "    .dataframe tbody tr th:only-of-type {\n",
       "        vertical-align: middle;\n",
       "    }\n",
       "\n",
       "    .dataframe tbody tr th {\n",
       "        vertical-align: top;\n",
       "    }\n",
       "\n",
       "    .dataframe thead th {\n",
       "        text-align: right;\n",
       "    }\n",
       "</style>\n",
       "<table border=\"1\" class=\"dataframe\">\n",
       "  <thead>\n",
       "    <tr style=\"text-align: right;\">\n",
       "      <th></th>\n",
       "      <th>Samplingpoint</th>\n",
       "      <th>Pollutant</th>\n",
       "      <th>Start</th>\n",
       "      <th>End</th>\n",
       "      <th>Value</th>\n",
       "      <th>Unit</th>\n",
       "      <th>AggType</th>\n",
       "      <th>Validity</th>\n",
       "      <th>Verification</th>\n",
       "      <th>ResultTime</th>\n",
       "      <th>DataCapture</th>\n",
       "      <th>FkObservationLog</th>\n",
       "    </tr>\n",
       "  </thead>\n",
       "  <tbody>\n",
       "    <tr>\n",
       "      <th>0</th>\n",
       "      <td>CH0002R</td>\n",
       "      <td>5</td>\n",
       "      <td>2013-01-01</td>\n",
       "      <td>2013-01-02</td>\n",
       "      <td>7.400000000000000000</td>\n",
       "      <td>ug.m-3</td>\n",
       "      <td>day</td>\n",
       "      <td>1</td>\n",
       "      <td>1</td>\n",
       "      <td>2014-09-16 10:45:03</td>\n",
       "      <td>None</td>\n",
       "      <td>9c0763ec-111e-425d-a325-751af4ff148b</td>\n",
       "    </tr>\n",
       "    <tr>\n",
       "      <th>1</th>\n",
       "      <td>CH0002R</td>\n",
       "      <td>5</td>\n",
       "      <td>2013-01-03</td>\n",
       "      <td>2013-01-04</td>\n",
       "      <td>14.100000000000000000</td>\n",
       "      <td>ug.m-3</td>\n",
       "      <td>day</td>\n",
       "      <td>1</td>\n",
       "      <td>1</td>\n",
       "      <td>2014-12-02 10:13:17</td>\n",
       "      <td>None</td>\n",
       "      <td>7cf9232c-bc8d-435f-9c81-d87223b6c8d2</td>\n",
       "    </tr>\n",
       "    <tr>\n",
       "      <th>2</th>\n",
       "      <td>CH0002R</td>\n",
       "      <td>5</td>\n",
       "      <td>2013-01-04</td>\n",
       "      <td>2013-01-05</td>\n",
       "      <td>23.200000000000000000</td>\n",
       "      <td>ug.m-3</td>\n",
       "      <td>day</td>\n",
       "      <td>1</td>\n",
       "      <td>1</td>\n",
       "      <td>2014-09-16 10:45:03</td>\n",
       "      <td>None</td>\n",
       "      <td>9c0763ec-111e-425d-a325-751af4ff148b</td>\n",
       "    </tr>\n",
       "  </tbody>\n",
       "</table>\n",
       "</div>"
      ],
      "text/plain": [
       "  Samplingpoint  Pollutant      Start        End                  Value  \\\n",
       "0       CH0002R          5 2013-01-01 2013-01-02   7.400000000000000000   \n",
       "1       CH0002R          5 2013-01-03 2013-01-04  14.100000000000000000   \n",
       "2       CH0002R          5 2013-01-04 2013-01-05  23.200000000000000000   \n",
       "\n",
       "     Unit AggType  Validity  Verification          ResultTime DataCapture  \\\n",
       "0  ug.m-3     day         1             1 2014-09-16 10:45:03        None   \n",
       "1  ug.m-3     day         1             1 2014-12-02 10:13:17        None   \n",
       "2  ug.m-3     day         1             1 2014-09-16 10:45:03        None   \n",
       "\n",
       "                       FkObservationLog  \n",
       "0  9c0763ec-111e-425d-a325-751af4ff148b  \n",
       "1  7cf9232c-bc8d-435f-9c81-d87223b6c8d2  \n",
       "2  9c0763ec-111e-425d-a325-751af4ff148b  "
      ]
     },
     "execution_count": 19,
     "metadata": {},
     "output_type": "execute_result"
    }
   ],
   "source": [
    "merged_df.head(3)"
   ]
  },
  {
   "cell_type": "code",
   "execution_count": 20,
   "id": "313a9162",
   "metadata": {},
   "outputs": [],
   "source": [
    "# assign the right canton to the samplingpoint\n",
    "merged_df['Canton'] = merged_df['Samplingpoint'].replace(df.set_index('Station')['Canton'].to_dict())"
   ]
  },
  {
   "cell_type": "code",
   "execution_count": 21,
   "id": "e0132360",
   "metadata": {},
   "outputs": [
    {
     "data": {
      "text/html": [
       "<div>\n",
       "<style scoped>\n",
       "    .dataframe tbody tr th:only-of-type {\n",
       "        vertical-align: middle;\n",
       "    }\n",
       "\n",
       "    .dataframe tbody tr th {\n",
       "        vertical-align: top;\n",
       "    }\n",
       "\n",
       "    .dataframe thead th {\n",
       "        text-align: right;\n",
       "    }\n",
       "</style>\n",
       "<table border=\"1\" class=\"dataframe\">\n",
       "  <thead>\n",
       "    <tr style=\"text-align: right;\">\n",
       "      <th></th>\n",
       "      <th>Samplingpoint</th>\n",
       "      <th>Pollutant</th>\n",
       "      <th>Start</th>\n",
       "      <th>End</th>\n",
       "      <th>Value</th>\n",
       "      <th>Unit</th>\n",
       "      <th>AggType</th>\n",
       "      <th>Validity</th>\n",
       "      <th>Verification</th>\n",
       "      <th>ResultTime</th>\n",
       "      <th>DataCapture</th>\n",
       "      <th>FkObservationLog</th>\n",
       "      <th>Canton</th>\n",
       "    </tr>\n",
       "  </thead>\n",
       "  <tbody>\n",
       "    <tr>\n",
       "      <th>0</th>\n",
       "      <td>CH0002R</td>\n",
       "      <td>5</td>\n",
       "      <td>2013-01-01</td>\n",
       "      <td>2013-01-02</td>\n",
       "      <td>7.400000000000000000</td>\n",
       "      <td>ug.m-3</td>\n",
       "      <td>day</td>\n",
       "      <td>1</td>\n",
       "      <td>1</td>\n",
       "      <td>2014-09-16 10:45:03</td>\n",
       "      <td>None</td>\n",
       "      <td>9c0763ec-111e-425d-a325-751af4ff148b</td>\n",
       "      <td>VD</td>\n",
       "    </tr>\n",
       "    <tr>\n",
       "      <th>1</th>\n",
       "      <td>CH0002R</td>\n",
       "      <td>5</td>\n",
       "      <td>2013-01-03</td>\n",
       "      <td>2013-01-04</td>\n",
       "      <td>14.100000000000000000</td>\n",
       "      <td>ug.m-3</td>\n",
       "      <td>day</td>\n",
       "      <td>1</td>\n",
       "      <td>1</td>\n",
       "      <td>2014-12-02 10:13:17</td>\n",
       "      <td>None</td>\n",
       "      <td>7cf9232c-bc8d-435f-9c81-d87223b6c8d2</td>\n",
       "      <td>VD</td>\n",
       "    </tr>\n",
       "    <tr>\n",
       "      <th>2</th>\n",
       "      <td>CH0002R</td>\n",
       "      <td>5</td>\n",
       "      <td>2013-01-04</td>\n",
       "      <td>2013-01-05</td>\n",
       "      <td>23.200000000000000000</td>\n",
       "      <td>ug.m-3</td>\n",
       "      <td>day</td>\n",
       "      <td>1</td>\n",
       "      <td>1</td>\n",
       "      <td>2014-09-16 10:45:03</td>\n",
       "      <td>None</td>\n",
       "      <td>9c0763ec-111e-425d-a325-751af4ff148b</td>\n",
       "      <td>VD</td>\n",
       "    </tr>\n",
       "  </tbody>\n",
       "</table>\n",
       "</div>"
      ],
      "text/plain": [
       "  Samplingpoint  Pollutant      Start        End                  Value  \\\n",
       "0       CH0002R          5 2013-01-01 2013-01-02   7.400000000000000000   \n",
       "1       CH0002R          5 2013-01-03 2013-01-04  14.100000000000000000   \n",
       "2       CH0002R          5 2013-01-04 2013-01-05  23.200000000000000000   \n",
       "\n",
       "     Unit AggType  Validity  Verification          ResultTime DataCapture  \\\n",
       "0  ug.m-3     day         1             1 2014-09-16 10:45:03        None   \n",
       "1  ug.m-3     day         1             1 2014-12-02 10:13:17        None   \n",
       "2  ug.m-3     day         1             1 2014-09-16 10:45:03        None   \n",
       "\n",
       "                       FkObservationLog Canton  \n",
       "0  9c0763ec-111e-425d-a325-751af4ff148b     VD  \n",
       "1  7cf9232c-bc8d-435f-9c81-d87223b6c8d2     VD  \n",
       "2  9c0763ec-111e-425d-a325-751af4ff148b     VD  "
      ]
     },
     "execution_count": 21,
     "metadata": {},
     "output_type": "execute_result"
    }
   ],
   "source": [
    "merged_df.head(3)"
   ]
  },
  {
   "cell_type": "code",
   "execution_count": 22,
   "id": "99d1bdc4",
   "metadata": {},
   "outputs": [
    {
     "data": {
      "text/plain": [
       "array([5])"
      ]
     },
     "execution_count": 22,
     "metadata": {},
     "output_type": "execute_result"
    }
   ],
   "source": [
    "merged_df['Pollutant'].unique()"
   ]
  },
  {
   "cell_type": "code",
   "execution_count": 23,
   "id": "029514a4",
   "metadata": {},
   "outputs": [],
   "source": [
    "final_df = merged_df[['Samplingpoint','Canton','ResultTime','Value']].copy()"
   ]
  },
  {
   "cell_type": "code",
   "execution_count": 24,
   "id": "d2fb5fbe",
   "metadata": {},
   "outputs": [],
   "source": [
    "final_df['ResultTime'] = pd.to_datetime(final_df['ResultTime'])"
   ]
  },
  {
   "cell_type": "code",
   "execution_count": 25,
   "id": "e1705414",
   "metadata": {},
   "outputs": [],
   "source": [
    "final_df['year'] = final_df['ResultTime'].dt.year"
   ]
  },
  {
   "cell_type": "code",
   "execution_count": 26,
   "id": "2f18af07",
   "metadata": {},
   "outputs": [],
   "source": [
    "avg_df = final_df.groupby(['Samplingpoint', 'year'])['Value'].mean().reset_index()"
   ]
  },
  {
   "cell_type": "code",
   "execution_count": 27,
   "id": "6cc50cc2",
   "metadata": {},
   "outputs": [
    {
     "data": {
      "text/html": [
       "<div>\n",
       "<style scoped>\n",
       "    .dataframe tbody tr th:only-of-type {\n",
       "        vertical-align: middle;\n",
       "    }\n",
       "\n",
       "    .dataframe tbody tr th {\n",
       "        vertical-align: top;\n",
       "    }\n",
       "\n",
       "    .dataframe thead th {\n",
       "        text-align: right;\n",
       "    }\n",
       "</style>\n",
       "<table border=\"1\" class=\"dataframe\">\n",
       "  <thead>\n",
       "    <tr style=\"text-align: right;\">\n",
       "      <th></th>\n",
       "      <th>Samplingpoint</th>\n",
       "      <th>year</th>\n",
       "      <th>Value</th>\n",
       "    </tr>\n",
       "  </thead>\n",
       "  <tbody>\n",
       "    <tr>\n",
       "      <th>0</th>\n",
       "      <td>CH0002R</td>\n",
       "      <td>2014</td>\n",
       "      <td>15.438527</td>\n",
       "    </tr>\n",
       "    <tr>\n",
       "      <th>1</th>\n",
       "      <td>CH0002R</td>\n",
       "      <td>2016</td>\n",
       "      <td>12.539051</td>\n",
       "    </tr>\n",
       "    <tr>\n",
       "      <th>2</th>\n",
       "      <td>CH0002R</td>\n",
       "      <td>2018</td>\n",
       "      <td>11.686241</td>\n",
       "    </tr>\n",
       "    <tr>\n",
       "      <th>3</th>\n",
       "      <td>CH0002R</td>\n",
       "      <td>2019</td>\n",
       "      <td>13.118333</td>\n",
       "    </tr>\n",
       "    <tr>\n",
       "      <th>4</th>\n",
       "      <td>CH0002R</td>\n",
       "      <td>2020</td>\n",
       "      <td>11.351609</td>\n",
       "    </tr>\n",
       "    <tr>\n",
       "      <th>...</th>\n",
       "      <td>...</td>\n",
       "      <td>...</td>\n",
       "      <td>...</td>\n",
       "    </tr>\n",
       "    <tr>\n",
       "      <th>211</th>\n",
       "      <td>CH0051A</td>\n",
       "      <td>2020</td>\n",
       "      <td>14.199403</td>\n",
       "    </tr>\n",
       "    <tr>\n",
       "      <th>212</th>\n",
       "      <td>CH0051A</td>\n",
       "      <td>2021</td>\n",
       "      <td>10.358782</td>\n",
       "    </tr>\n",
       "    <tr>\n",
       "      <th>213</th>\n",
       "      <td>CH0051A</td>\n",
       "      <td>2022</td>\n",
       "      <td>13.623158</td>\n",
       "    </tr>\n",
       "    <tr>\n",
       "      <th>214</th>\n",
       "      <td>CH0051A</td>\n",
       "      <td>2023</td>\n",
       "      <td>14.37996</td>\n",
       "    </tr>\n",
       "    <tr>\n",
       "      <th>215</th>\n",
       "      <td>CH0051A</td>\n",
       "      <td>2024</td>\n",
       "      <td>12.528257</td>\n",
       "    </tr>\n",
       "  </tbody>\n",
       "</table>\n",
       "<p>172 rows × 3 columns</p>\n",
       "</div>"
      ],
      "text/plain": [
       "    Samplingpoint  year      Value\n",
       "0         CH0002R  2014  15.438527\n",
       "1         CH0002R  2016  12.539051\n",
       "2         CH0002R  2018  11.686241\n",
       "3         CH0002R  2019  13.118333\n",
       "4         CH0002R  2020  11.351609\n",
       "..            ...   ...        ...\n",
       "211       CH0051A  2020  14.199403\n",
       "212       CH0051A  2021  10.358782\n",
       "213       CH0051A  2022  13.623158\n",
       "214       CH0051A  2023   14.37996\n",
       "215       CH0051A  2024  12.528257\n",
       "\n",
       "[172 rows x 3 columns]"
      ]
     },
     "execution_count": 27,
     "metadata": {},
     "output_type": "execute_result"
    }
   ],
   "source": [
    "# Filter avg_df to include only rows where the Samplingpoint appears at least 9 times\n",
    "valid_samplingpoints = avg_df['Samplingpoint'].value_counts()[avg_df['Samplingpoint'].value_counts() >= 9].index\n",
    "filtered_avg_df = avg_df[avg_df['Samplingpoint'].isin(valid_samplingpoints)]\n",
    "filtered_avg_df"
   ]
  },
  {
   "cell_type": "code",
   "execution_count": 28,
   "id": "92484e81",
   "metadata": {},
   "outputs": [
    {
     "data": {
      "text/plain": [
       "array(['CH0002R', 'CH0003R', 'CH0004R', 'CH0005A', 'CH0005R', 'CH0008A',\n",
       "       'CH0010A', 'CH0011A', 'CH0013A', 'CH0017A', 'CH0021A', 'CH0024A',\n",
       "       'CH0028A', 'CH0031A', 'CH0033A', 'CH0043A', 'CH0046A', 'CH0050A',\n",
       "       'CH0051A'], dtype=object)"
      ]
     },
     "execution_count": 28,
     "metadata": {},
     "output_type": "execute_result"
    }
   ],
   "source": [
    "filtered_avg_df['Samplingpoint'].unique()"
   ]
  },
  {
   "cell_type": "code",
   "execution_count": 29,
   "id": "e49875ba",
   "metadata": {},
   "outputs": [
    {
     "name": "stderr",
     "output_type": "stream",
     "text": [
      "C:\\Users\\simon\\AppData\\Local\\Temp\\ipykernel_11068\\206904812.py:1: SettingWithCopyWarning: \n",
      "A value is trying to be set on a copy of a slice from a DataFrame.\n",
      "Try using .loc[row_indexer,col_indexer] = value instead\n",
      "\n",
      "See the caveats in the documentation: https://pandas.pydata.org/pandas-docs/stable/user_guide/indexing.html#returning-a-view-versus-a-copy\n",
      "  filtered_avg_df['Canton'] = filtered_avg_df['Samplingpoint'].map(df.set_index('Station')['Canton'].to_dict())\n"
     ]
    }
   ],
   "source": [
    "filtered_avg_df['Canton'] = filtered_avg_df['Samplingpoint'].map(df.set_index('Station')['Canton'].to_dict())"
   ]
  },
  {
   "cell_type": "code",
   "execution_count": 30,
   "id": "1293135e",
   "metadata": {},
   "outputs": [
    {
     "data": {
      "text/plain": [
       "array(['VD', 'TG', 'NE', 'ZH', 'LU', 'BL', 'TI', 'BS', 'VS', 'BE', 'GE'],\n",
       "      dtype=object)"
      ]
     },
     "execution_count": 30,
     "metadata": {},
     "output_type": "execute_result"
    }
   ],
   "source": [
    "filtered_avg_df['Canton'].unique()"
   ]
  },
  {
   "cell_type": "code",
   "execution_count": 31,
   "id": "c33becda",
   "metadata": {},
   "outputs": [
    {
     "data": {
      "text/plain": [
       "array([2014, 2016, 2018, 2019, 2020, 2021, 2022, 2023, 2024, 2017])"
      ]
     },
     "execution_count": 31,
     "metadata": {},
     "output_type": "execute_result"
    }
   ],
   "source": [
    "filtered_avg_df['year'].unique()"
   ]
  },
  {
   "cell_type": "code",
   "execution_count": 32,
   "id": "73844441",
   "metadata": {},
   "outputs": [
    {
     "data": {
      "text/plain": [
       "Canton\n",
       "ZH    36\n",
       "TI    27\n",
       "GE    27\n",
       "VD    18\n",
       "BL    10\n",
       "TG     9\n",
       "NE     9\n",
       "LU     9\n",
       "BS     9\n",
       "VS     9\n",
       "BE     9\n",
       "Name: count, dtype: int64"
      ]
     },
     "execution_count": 32,
     "metadata": {},
     "output_type": "execute_result"
    }
   ],
   "source": [
    "filtered_avg_df['Canton'].value_counts()"
   ]
  },
  {
   "cell_type": "code",
   "execution_count": 33,
   "id": "9f3005c4",
   "metadata": {},
   "outputs": [],
   "source": [
    "namedict = {'CH0002R':'VD_Payerne_rural', \n",
    "            'CH0003R':'TG_Taenikon_rural', \n",
    "            'CH0004R':'NE_Chaumont_rural', \n",
    "            'CH0005A':'ZH_Duebendorf_suburban', \n",
    "            'CH0005R':'LU_Rigi_rural', \n",
    "            'CH0008A':'BL_BaselBinningen_suburban',\n",
    "            'CH0010A':'ZH_Zuerich_urban', \n",
    "            'CH0011A':'TI_Lugano_urban', \n",
    "            'CH0013A':'ZH_Zuerich_urban', \n",
    "            'CH0017A':'BS_Basel_urban', \n",
    "            'CH0021A':'ZH_ZuerichBahnhof_urban', \n",
    "            'CH0024A':'VS_Saxon_rural',\n",
    "            'CH0028A':'VD_Lausanne_urban', \n",
    "            'CH0031A':'BE_Bern_urban', \n",
    "            'CH0033A':'TI_Magadino_rural', \n",
    "            'CH0043A':'TI_LuganoPregassona_suburban', \n",
    "            'CH0046A':'GE_Thonex_suburban', \n",
    "            'CH0050A':'GE_Meyrin_suburban',\n",
    "            'CH0051A':'GE_Avully_rural'}"
   ]
  },
  {
   "cell_type": "code",
   "execution_count": 34,
   "id": "25b7900f",
   "metadata": {},
   "outputs": [
    {
     "name": "stderr",
     "output_type": "stream",
     "text": [
      "C:\\Users\\simon\\AppData\\Local\\Temp\\ipykernel_11068\\1521266424.py:1: SettingWithCopyWarning: \n",
      "A value is trying to be set on a copy of a slice from a DataFrame.\n",
      "Try using .loc[row_indexer,col_indexer] = value instead\n",
      "\n",
      "See the caveats in the documentation: https://pandas.pydata.org/pandas-docs/stable/user_guide/indexing.html#returning-a-view-versus-a-copy\n",
      "  filtered_avg_df['Name'] = filtered_avg_df['Samplingpoint'].map(namedict)\n"
     ]
    }
   ],
   "source": [
    "filtered_avg_df['Name'] = filtered_avg_df['Samplingpoint'].map(namedict)"
   ]
  },
  {
   "cell_type": "code",
   "execution_count": 35,
   "id": "7f92dbb6",
   "metadata": {},
   "outputs": [
    {
     "data": {
      "text/plain": [
       "array(['VD_Payerne_rural', 'TG_Taenikon_rural', 'NE_Chaumont_rural',\n",
       "       'ZH_Duebendorf_suburban', 'LU_Rigi_rural',\n",
       "       'BL_BaselBinningen_suburban', 'ZH_Zuerich_urban',\n",
       "       'TI_Lugano_urban', 'BS_Basel_urban', 'ZH_ZuerichBahnhof_urban',\n",
       "       'VS_Saxon_rural', 'VD_Lausanne_urban', 'BE_Bern_urban',\n",
       "       'TI_Magadino_rural', 'TI_LuganoPregassona_suburban',\n",
       "       'GE_Thonex_suburban', 'GE_Meyrin_suburban', 'GE_Avully_rural'],\n",
       "      dtype=object)"
      ]
     },
     "execution_count": 35,
     "metadata": {},
     "output_type": "execute_result"
    }
   ],
   "source": [
    "filtered_avg_df['Name'].unique()"
   ]
  },
  {
   "cell_type": "code",
   "execution_count": 36,
   "id": "0380fc5e",
   "metadata": {},
   "outputs": [
    {
     "data": {
      "image/png": "[encoded data removed]",
      "text/plain": [
       "<Figure size 1200x600 with 1 Axes>"
      ]
     },
     "metadata": {},
     "output_type": "display_data"
    }
   ],
   "source": [
    "plt.figure(figsize=(12, 6))\n",
    "for station in filtered_avg_df['Samplingpoint'].unique():\n",
    "    station_data = filtered_avg_df[filtered_avg_df['Samplingpoint'] == station]\n",
    "    plt.plot(station_data['year'], station_data['Value'], label=filtered_avg_df[filtered_avg_df['Samplingpoint'] == station]['Name'].values[0])\n",
    "plt.title('Yearly averaged PM10 Values')\n",
    "plt.xlabel('Year')\n",
    "plt.ylabel('Average Value')\n",
    "plt.legend()\n",
    "plt.grid()\n",
    "plt.show()"
   ]
  },
  {
   "cell_type": "code",
   "execution_count": 42,
   "id": "c7fcd398",
   "metadata": {},
   "outputs": [
    {
     "data": {
      "text/plain": [
       "['BE_Bern_urban',\n",
       " 'BL_BaselBinningen_suburban',\n",
       " 'BS_Basel_urban',\n",
       " 'GE_Avully_rural',\n",
       " 'GE_Meyrin_suburban',\n",
       " 'GE_Thonex_suburban',\n",
       " 'LU_Rigi_rural',\n",
       " 'NE_Chaumont_rural',\n",
       " 'TG_Taenikon_rural',\n",
       " 'TI_LuganoPregassona_suburban',\n",
       " 'TI_Lugano_urban',\n",
       " 'TI_Magadino_rural',\n",
       " 'VD_Lausanne_urban',\n",
       " 'VD_Payerne_rural',\n",
       " 'VS_Saxon_rural',\n",
       " 'ZH_Duebendorf_suburban',\n",
       " 'ZH_ZuerichBahnhof_urban',\n",
       " 'ZH_Zuerich_urban']"
      ]
     },
     "execution_count": 42,
     "metadata": {},
     "output_type": "execute_result"
    }
   ],
   "source": [
    "sorted(filtered_avg_df['Name'].unique())"
   ]
  },
  {
   "cell_type": "code",
   "execution_count": 48,
   "id": "1533d71e",
   "metadata": {},
   "outputs": [],
   "source": [
    "final_df = filtered_avg_df[filtered_avg_df['Name'].isin(['BE_Bern_urban', 'BL_BaselBinningen_suburban', 'BS_Basel_urban', 'GE_Meyrin_suburban', 'LU_Rigi_rural', 'NE_Chaumont_rural', 'TG_Taenikon_rural', 'TI_Lugano_urban', 'VD_Lausanne_urban', 'VS_Saxon_rural', 'ZH_Zuerich_urban'])]"
   ]
  },
  {
   "cell_type": "code",
   "execution_count": 51,
   "id": "7d2d4cf2",
   "metadata": {},
   "outputs": [
    {
     "data": {
      "text/plain": [
       "['BE_Bern_urban',\n",
       " 'BL_BaselBinningen_suburban',\n",
       " 'BS_Basel_urban',\n",
       " 'GE_Meyrin_suburban',\n",
       " 'LU_Rigi_rural',\n",
       " 'NE_Chaumont_rural',\n",
       " 'TG_Taenikon_rural',\n",
       " 'TI_Lugano_urban',\n",
       " 'VD_Lausanne_urban',\n",
       " 'VS_Saxon_rural',\n",
       " 'ZH_Zuerich_urban']"
      ]
     },
     "execution_count": 51,
     "metadata": {},
     "output_type": "execute_result"
    }
   ],
   "source": [
    "sorted(final_df['Name'].unique())"
   ]
  },
  {
   "cell_type": "code",
   "execution_count": 49,
   "id": "94a717cb",
   "metadata": {},
   "outputs": [],
   "source": [
    "final_df.to_csv('C:/Users/simon/OneDrive/Bureau/PM10.csv', index=False)"
   ]
  },
  {
   "cell_type": "code",
   "execution_count": 50,
   "id": "ecce54a9",
   "metadata": {},
   "outputs": [
    {
     "data": {
      "image/png": "[encoded data removed]",
      "text/plain": [
       "<Figure size 1200x600 with 1 Axes>"
      ]
     },
     "metadata": {},
     "output_type": "display_data"
    }
   ],
   "source": [
    "plt.figure(figsize=(12, 6))\n",
    "plt.scatter(final_df['year'], final_df['Value'], alpha=0.5)\n",
    "plt.title('Scatter plot of PM10 Values over Years')\n",
    "plt.xlabel('Year')\n",
    "plt.ylabel('Value')\n",
    "plt.grid()\n",
    "plt.show()"
   ]
  },
  {
   "cell_type": "code",
   "execution_count": null,
   "id": "e209e27a",
   "metadata": {},
   "outputs": [],
   "source": []
  }
 ],
 "metadata": {
  "kernelspec": {
   "display_name": "base",
   "language": "python",
   "name": "python3"
  },
  "language_info": {
   "codemirror_mode": {
    "name": "ipython",
    "version": 3
   },
   "file_extension": ".py",
   "mimetype": "text/x-python",
   "name": "python",
   "nbconvert_exporter": "python",
   "pygments_lexer": "ipython3",
   "version": "3.12.4"
  }
 },
 "nbformat": 4,
 "nbformat_minor": 5
}
