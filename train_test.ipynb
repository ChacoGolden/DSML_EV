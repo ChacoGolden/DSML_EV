{
  "nbformat": 4,
  "nbformat_minor": 0,
  "metadata": {
    "colab": {
      "provenance": [],
      "authorship_tag": "ABX9TyNS6yvMp+LZ8V/PH36Nxhmw",
      "include_colab_link": true
    },
    "kernelspec": {
      "name": "python3",
      "display_name": "Python 3"
    },
    "language_info": {
      "name": "python"
    }
  },
  "cells": [
    {
      "cell_type": "markdown",
      "metadata": {
        "id": "view-in-github",
        "colab_type": "text"
      },
      "source": [
        "<a href=\"https://colab.research.google.com/github/ChacoGolden/DSML_EV/blob/main/train_test.ipynb\" target=\"_parent\"><img src=\"https://colab.research.google.com/assets/colab-badge.svg\" alt=\"Open In Colab\"/></a>"
      ]
    },
    {
      "cell_type": "code",
      "source": [
        "import pandas as pd\n",
        "import numpy as np"
      ],
      "metadata": {
        "id": "cILXOc9IW5ii"
      },
      "execution_count": 34,
      "outputs": []
    },
    {
      "cell_type": "code",
      "source": [
        "# Load your datasets (use your own file paths in Colab)\n",
        "no2_df = pd.read_csv(\"https://raw.githubusercontent.com/ChacoGolden/DSML_EV/refs/heads/main/No2_emissions_CH.csv\")\n",
        "ev_df = pd.read_csv(\"https://raw.githubusercontent.com/ChacoGolden/DSML_EV/refs/heads/main/CH_vehicles_ev_percentage.csv\")\n",
        "swiss_df = pd.read_csv('https://raw.githubusercontent.com/ChacoGolden/DSML_EV/refs/heads/main/swiss_final_dataset_1995_2023.csv')"
      ],
      "metadata": {
        "id": "KsIA7tXpMXU3"
      },
      "execution_count": 28,
      "outputs": []
    },
    {
      "cell_type": "code",
      "source": [
        "no2_df.head()"
      ],
      "metadata": {
        "id": "r_53SBQbDEfS",
        "outputId": "7a64398b-dc2f-426f-d6f2-f5505c80638b",
        "colab": {
          "base_uri": "https://localhost:8080/",
          "height": 206
        }
      },
      "execution_count": 41,
      "outputs": [
        {
          "output_type": "execute_result",
          "data": {
            "text/plain": [
              "   year   no2\n",
              "0  2000  49.2\n",
              "1  2001  43.3\n",
              "2  2002  47.0\n",
              "3  2003  52.1\n",
              "4  2004  48.0"
            ],
            "text/html": [
              "\n",
              "  <div id=\"df-ada0abc1-b285-4644-949d-be9cf5377c99\" class=\"colab-df-container\">\n",
              "    <div>\n",
              "<style scoped>\n",
              "    .dataframe tbody tr th:only-of-type {\n",
              "        vertical-align: middle;\n",
              "    }\n",
              "\n",
              "    .dataframe tbody tr th {\n",
              "        vertical-align: top;\n",
              "    }\n",
              "\n",
              "    .dataframe thead th {\n",
              "        text-align: right;\n",
              "    }\n",
              "</style>\n",
              "<table border=\"1\" class=\"dataframe\">\n",
              "  <thead>\n",
              "    <tr style=\"text-align: right;\">\n",
              "      <th></th>\n",
              "      <th>year</th>\n",
              "      <th>no2</th>\n",
              "    </tr>\n",
              "  </thead>\n",
              "  <tbody>\n",
              "    <tr>\n",
              "      <th>0</th>\n",
              "      <td>2000</td>\n",
              "      <td>49.2</td>\n",
              "    </tr>\n",
              "    <tr>\n",
              "      <th>1</th>\n",
              "      <td>2001</td>\n",
              "      <td>43.3</td>\n",
              "    </tr>\n",
              "    <tr>\n",
              "      <th>2</th>\n",
              "      <td>2002</td>\n",
              "      <td>47.0</td>\n",
              "    </tr>\n",
              "    <tr>\n",
              "      <th>3</th>\n",
              "      <td>2003</td>\n",
              "      <td>52.1</td>\n",
              "    </tr>\n",
              "    <tr>\n",
              "      <th>4</th>\n",
              "      <td>2004</td>\n",
              "      <td>48.0</td>\n",
              "    </tr>\n",
              "  </tbody>\n",
              "</table>\n",
              "</div>\n",
              "    <div class=\"colab-df-buttons\">\n",
              "\n",
              "  <div class=\"colab-df-container\">\n",
              "    <button class=\"colab-df-convert\" onclick=\"convertToInteractive('df-ada0abc1-b285-4644-949d-be9cf5377c99')\"\n",
              "            title=\"Convert this dataframe to an interactive table.\"\n",
              "            style=\"display:none;\">\n",
              "\n",
              "  <svg xmlns=\"http://www.w3.org/2000/svg\" height=\"24px\" viewBox=\"0 -960 960 960\">\n",
              "    <path d=\"M120-120v-720h720v720H120Zm60-500h600v-160H180v160Zm220 220h160v-160H400v160Zm0 220h160v-160H400v160ZM180-400h160v-160H180v160Zm440 0h160v-160H620v160ZM180-180h160v-160H180v160Zm440 0h160v-160H620v160Z\"/>\n",
              "  </svg>\n",
              "    </button>\n",
              "\n",
              "  <style>\n",
              "    .colab-df-container {\n",
              "      display:flex;\n",
              "      gap: 12px;\n",
              "    }\n",
              "\n",
              "    .colab-df-convert {\n",
              "      background-color: #E8F0FE;\n",
              "      border: none;\n",
              "      border-radius: 50%;\n",
              "      cursor: pointer;\n",
              "      display: none;\n",
              "      fill: #1967D2;\n",
              "      height: 32px;\n",
              "      padding: 0 0 0 0;\n",
              "      width: 32px;\n",
              "    }\n",
              "\n",
              "    .colab-df-convert:hover {\n",
              "      background-color: #E2EBFA;\n",
              "      box-shadow: 0px 1px 2px rgba(60, 64, 67, 0.3), 0px 1px 3px 1px rgba(60, 64, 67, 0.15);\n",
              "      fill: #174EA6;\n",
              "    }\n",
              "\n",
              "    .colab-df-buttons div {\n",
              "      margin-bottom: 4px;\n",
              "    }\n",
              "\n",
              "    [theme=dark] .colab-df-convert {\n",
              "      background-color: #3B4455;\n",
              "      fill: #D2E3FC;\n",
              "    }\n",
              "\n",
              "    [theme=dark] .colab-df-convert:hover {\n",
              "      background-color: #434B5C;\n",
              "      box-shadow: 0px 1px 3px 1px rgba(0, 0, 0, 0.15);\n",
              "      filter: drop-shadow(0px 1px 2px rgba(0, 0, 0, 0.3));\n",
              "      fill: #FFFFFF;\n",
              "    }\n",
              "  </style>\n",
              "\n",
              "    <script>\n",
              "      const buttonEl =\n",
              "        document.querySelector('#df-ada0abc1-b285-4644-949d-be9cf5377c99 button.colab-df-convert');\n",
              "      buttonEl.style.display =\n",
              "        google.colab.kernel.accessAllowed ? 'block' : 'none';\n",
              "\n",
              "      async function convertToInteractive(key) {\n",
              "        const element = document.querySelector('#df-ada0abc1-b285-4644-949d-be9cf5377c99');\n",
              "        const dataTable =\n",
              "          await google.colab.kernel.invokeFunction('convertToInteractive',\n",
              "                                                    [key], {});\n",
              "        if (!dataTable) return;\n",
              "\n",
              "        const docLinkHtml = 'Like what you see? Visit the ' +\n",
              "          '<a target=\"_blank\" href=https://colab.research.google.com/notebooks/data_table.ipynb>data table notebook</a>'\n",
              "          + ' to learn more about interactive tables.';\n",
              "        element.innerHTML = '';\n",
              "        dataTable['output_type'] = 'display_data';\n",
              "        await google.colab.output.renderOutput(dataTable, element);\n",
              "        const docLink = document.createElement('div');\n",
              "        docLink.innerHTML = docLinkHtml;\n",
              "        element.appendChild(docLink);\n",
              "      }\n",
              "    </script>\n",
              "  </div>\n",
              "\n",
              "\n",
              "    <div id=\"df-06d54422-ac3b-4976-9bdf-1a741d8c903d\">\n",
              "      <button class=\"colab-df-quickchart\" onclick=\"quickchart('df-06d54422-ac3b-4976-9bdf-1a741d8c903d')\"\n",
              "                title=\"Suggest charts\"\n",
              "                style=\"display:none;\">\n",
              "\n",
              "<svg xmlns=\"http://www.w3.org/2000/svg\" height=\"24px\"viewBox=\"0 0 24 24\"\n",
              "     width=\"24px\">\n",
              "    <g>\n",
              "        <path d=\"M19 3H5c-1.1 0-2 .9-2 2v14c0 1.1.9 2 2 2h14c1.1 0 2-.9 2-2V5c0-1.1-.9-2-2-2zM9 17H7v-7h2v7zm4 0h-2V7h2v10zm4 0h-2v-4h2v4z\"/>\n",
              "    </g>\n",
              "</svg>\n",
              "      </button>\n",
              "\n",
              "<style>\n",
              "  .colab-df-quickchart {\n",
              "      --bg-color: #E8F0FE;\n",
              "      --fill-color: #1967D2;\n",
              "      --hover-bg-color: #E2EBFA;\n",
              "      --hover-fill-color: #174EA6;\n",
              "      --disabled-fill-color: #AAA;\n",
              "      --disabled-bg-color: #DDD;\n",
              "  }\n",
              "\n",
              "  [theme=dark] .colab-df-quickchart {\n",
              "      --bg-color: #3B4455;\n",
              "      --fill-color: #D2E3FC;\n",
              "      --hover-bg-color: #434B5C;\n",
              "      --hover-fill-color: #FFFFFF;\n",
              "      --disabled-bg-color: #3B4455;\n",
              "      --disabled-fill-color: #666;\n",
              "  }\n",
              "\n",
              "  .colab-df-quickchart {\n",
              "    background-color: var(--bg-color);\n",
              "    border: none;\n",
              "    border-radius: 50%;\n",
              "    cursor: pointer;\n",
              "    display: none;\n",
              "    fill: var(--fill-color);\n",
              "    height: 32px;\n",
              "    padding: 0;\n",
              "    width: 32px;\n",
              "  }\n",
              "\n",
              "  .colab-df-quickchart:hover {\n",
              "    background-color: var(--hover-bg-color);\n",
              "    box-shadow: 0 1px 2px rgba(60, 64, 67, 0.3), 0 1px 3px 1px rgba(60, 64, 67, 0.15);\n",
              "    fill: var(--button-hover-fill-color);\n",
              "  }\n",
              "\n",
              "  .colab-df-quickchart-complete:disabled,\n",
              "  .colab-df-quickchart-complete:disabled:hover {\n",
              "    background-color: var(--disabled-bg-color);\n",
              "    fill: var(--disabled-fill-color);\n",
              "    box-shadow: none;\n",
              "  }\n",
              "\n",
              "  .colab-df-spinner {\n",
              "    border: 2px solid var(--fill-color);\n",
              "    border-color: transparent;\n",
              "    border-bottom-color: var(--fill-color);\n",
              "    animation:\n",
              "      spin 1s steps(1) infinite;\n",
              "  }\n",
              "\n",
              "  @keyframes spin {\n",
              "    0% {\n",
              "      border-color: transparent;\n",
              "      border-bottom-color: var(--fill-color);\n",
              "      border-left-color: var(--fill-color);\n",
              "    }\n",
              "    20% {\n",
              "      border-color: transparent;\n",
              "      border-left-color: var(--fill-color);\n",
              "      border-top-color: var(--fill-color);\n",
              "    }\n",
              "    30% {\n",
              "      border-color: transparent;\n",
              "      border-left-color: var(--fill-color);\n",
              "      border-top-color: var(--fill-color);\n",
              "      border-right-color: var(--fill-color);\n",
              "    }\n",
              "    40% {\n",
              "      border-color: transparent;\n",
              "      border-right-color: var(--fill-color);\n",
              "      border-top-color: var(--fill-color);\n",
              "    }\n",
              "    60% {\n",
              "      border-color: transparent;\n",
              "      border-right-color: var(--fill-color);\n",
              "    }\n",
              "    80% {\n",
              "      border-color: transparent;\n",
              "      border-right-color: var(--fill-color);\n",
              "      border-bottom-color: var(--fill-color);\n",
              "    }\n",
              "    90% {\n",
              "      border-color: transparent;\n",
              "      border-bottom-color: var(--fill-color);\n",
              "    }\n",
              "  }\n",
              "</style>\n",
              "\n",
              "      <script>\n",
              "        async function quickchart(key) {\n",
              "          const quickchartButtonEl =\n",
              "            document.querySelector('#' + key + ' button');\n",
              "          quickchartButtonEl.disabled = true;  // To prevent multiple clicks.\n",
              "          quickchartButtonEl.classList.add('colab-df-spinner');\n",
              "          try {\n",
              "            const charts = await google.colab.kernel.invokeFunction(\n",
              "                'suggestCharts', [key], {});\n",
              "          } catch (error) {\n",
              "            console.error('Error during call to suggestCharts:', error);\n",
              "          }\n",
              "          quickchartButtonEl.classList.remove('colab-df-spinner');\n",
              "          quickchartButtonEl.classList.add('colab-df-quickchart-complete');\n",
              "        }\n",
              "        (() => {\n",
              "          let quickchartButtonEl =\n",
              "            document.querySelector('#df-06d54422-ac3b-4976-9bdf-1a741d8c903d button');\n",
              "          quickchartButtonEl.style.display =\n",
              "            google.colab.kernel.accessAllowed ? 'block' : 'none';\n",
              "        })();\n",
              "      </script>\n",
              "    </div>\n",
              "\n",
              "    </div>\n",
              "  </div>\n"
            ],
            "application/vnd.google.colaboratory.intrinsic+json": {
              "type": "dataframe",
              "variable_name": "no2_df",
              "summary": "{\n  \"name\": \"no2_df\",\n  \"rows\": 25,\n  \"fields\": [\n    {\n      \"column\": \"year\",\n      \"properties\": {\n        \"dtype\": \"number\",\n        \"std\": 7,\n        \"min\": 2000,\n        \"max\": 2024,\n        \"num_unique_values\": 25,\n        \"samples\": [\n          2008,\n          2016,\n          2000\n        ],\n        \"semantic_type\": \"\",\n        \"description\": \"\"\n      }\n    },\n    {\n      \"column\": \"no2\",\n      \"properties\": {\n        \"dtype\": \"number\",\n        \"std\": 9.176459012059063,\n        \"min\": 21.4,\n        \"max\": 52.3,\n        \"num_unique_values\": 25,\n        \"samples\": [\n          47.3,\n          36.8,\n          49.2\n        ],\n        \"semantic_type\": \"\",\n        \"description\": \"\"\n      }\n    }\n  ]\n}"
            }
          },
          "metadata": {},
          "execution_count": 41
        }
      ]
    },
    {
      "cell_type": "code",
      "source": [
        "swiss_df['EV Share'] = swiss_df['Electricity'] / swiss_df['Fossil']\n",
        "swiss_df['log_population'] = np.log(swiss_df['population'])\n",
        "swiss_df = pd.merge(no2_df, swiss_df, on='year', how='inner')\n",
        "\n",
        "swiss_df.head()"
      ],
      "metadata": {
        "id": "t_7GRO8sA-KV",
        "outputId": "a9f30a39-a56c-460d-8bd7-a27fbfad33cc",
        "colab": {
          "base_uri": "https://localhost:8080/",
          "height": 206
        }
      },
      "execution_count": 42,
      "outputs": [
        {
          "output_type": "execute_result",
          "data": {
            "text/plain": [
              "   year   no2  population  avg_temp  industry_pct_gdp  Electricity     Fossil  \\\n",
              "0  2000  49.2     7204000      5.99         25.468196       5188.0  4579530.0   \n",
              "1  2001  43.3     7256000      5.46         26.244258       5194.0  4701367.0   \n",
              "2  2002  47.0     7314000      6.08         26.433977       5307.0  4803609.0   \n",
              "3  2003  52.1     7364000      6.24         26.006421       5325.0  4882971.0   \n",
              "4  2004  48.0     7415102      5.40         25.551510       4813.0  4964380.0   \n",
              "\n",
              "   EV Share  log_population  \n",
              "0  0.001133       15.790147  \n",
              "1  0.001105       15.797339  \n",
              "2  0.001105       15.805301  \n",
              "3  0.001091       15.812114  \n",
              "4  0.000970       15.819029  "
            ],
            "text/html": [
              "\n",
              "  <div id=\"df-2f30a9e2-055c-427d-980c-49d004472055\" class=\"colab-df-container\">\n",
              "    <div>\n",
              "<style scoped>\n",
              "    .dataframe tbody tr th:only-of-type {\n",
              "        vertical-align: middle;\n",
              "    }\n",
              "\n",
              "    .dataframe tbody tr th {\n",
              "        vertical-align: top;\n",
              "    }\n",
              "\n",
              "    .dataframe thead th {\n",
              "        text-align: right;\n",
              "    }\n",
              "</style>\n",
              "<table border=\"1\" class=\"dataframe\">\n",
              "  <thead>\n",
              "    <tr style=\"text-align: right;\">\n",
              "      <th></th>\n",
              "      <th>year</th>\n",
              "      <th>no2</th>\n",
              "      <th>population</th>\n",
              "      <th>avg_temp</th>\n",
              "      <th>industry_pct_gdp</th>\n",
              "      <th>Electricity</th>\n",
              "      <th>Fossil</th>\n",
              "      <th>EV Share</th>\n",
              "      <th>log_population</th>\n",
              "    </tr>\n",
              "  </thead>\n",
              "  <tbody>\n",
              "    <tr>\n",
              "      <th>0</th>\n",
              "      <td>2000</td>\n",
              "      <td>49.2</td>\n",
              "      <td>7204000</td>\n",
              "      <td>5.99</td>\n",
              "      <td>25.468196</td>\n",
              "      <td>5188.0</td>\n",
              "      <td>4579530.0</td>\n",
              "      <td>0.001133</td>\n",
              "      <td>15.790147</td>\n",
              "    </tr>\n",
              "    <tr>\n",
              "      <th>1</th>\n",
              "      <td>2001</td>\n",
              "      <td>43.3</td>\n",
              "      <td>7256000</td>\n",
              "      <td>5.46</td>\n",
              "      <td>26.244258</td>\n",
              "      <td>5194.0</td>\n",
              "      <td>4701367.0</td>\n",
              "      <td>0.001105</td>\n",
              "      <td>15.797339</td>\n",
              "    </tr>\n",
              "    <tr>\n",
              "      <th>2</th>\n",
              "      <td>2002</td>\n",
              "      <td>47.0</td>\n",
              "      <td>7314000</td>\n",
              "      <td>6.08</td>\n",
              "      <td>26.433977</td>\n",
              "      <td>5307.0</td>\n",
              "      <td>4803609.0</td>\n",
              "      <td>0.001105</td>\n",
              "      <td>15.805301</td>\n",
              "    </tr>\n",
              "    <tr>\n",
              "      <th>3</th>\n",
              "      <td>2003</td>\n",
              "      <td>52.1</td>\n",
              "      <td>7364000</td>\n",
              "      <td>6.24</td>\n",
              "      <td>26.006421</td>\n",
              "      <td>5325.0</td>\n",
              "      <td>4882971.0</td>\n",
              "      <td>0.001091</td>\n",
              "      <td>15.812114</td>\n",
              "    </tr>\n",
              "    <tr>\n",
              "      <th>4</th>\n",
              "      <td>2004</td>\n",
              "      <td>48.0</td>\n",
              "      <td>7415102</td>\n",
              "      <td>5.40</td>\n",
              "      <td>25.551510</td>\n",
              "      <td>4813.0</td>\n",
              "      <td>4964380.0</td>\n",
              "      <td>0.000970</td>\n",
              "      <td>15.819029</td>\n",
              "    </tr>\n",
              "  </tbody>\n",
              "</table>\n",
              "</div>\n",
              "    <div class=\"colab-df-buttons\">\n",
              "\n",
              "  <div class=\"colab-df-container\">\n",
              "    <button class=\"colab-df-convert\" onclick=\"convertToInteractive('df-2f30a9e2-055c-427d-980c-49d004472055')\"\n",
              "            title=\"Convert this dataframe to an interactive table.\"\n",
              "            style=\"display:none;\">\n",
              "\n",
              "  <svg xmlns=\"http://www.w3.org/2000/svg\" height=\"24px\" viewBox=\"0 -960 960 960\">\n",
              "    <path d=\"M120-120v-720h720v720H120Zm60-500h600v-160H180v160Zm220 220h160v-160H400v160Zm0 220h160v-160H400v160ZM180-400h160v-160H180v160Zm440 0h160v-160H620v160ZM180-180h160v-160H180v160Zm440 0h160v-160H620v160Z\"/>\n",
              "  </svg>\n",
              "    </button>\n",
              "\n",
              "  <style>\n",
              "    .colab-df-container {\n",
              "      display:flex;\n",
              "      gap: 12px;\n",
              "    }\n",
              "\n",
              "    .colab-df-convert {\n",
              "      background-color: #E8F0FE;\n",
              "      border: none;\n",
              "      border-radius: 50%;\n",
              "      cursor: pointer;\n",
              "      display: none;\n",
              "      fill: #1967D2;\n",
              "      height: 32px;\n",
              "      padding: 0 0 0 0;\n",
              "      width: 32px;\n",
              "    }\n",
              "\n",
              "    .colab-df-convert:hover {\n",
              "      background-color: #E2EBFA;\n",
              "      box-shadow: 0px 1px 2px rgba(60, 64, 67, 0.3), 0px 1px 3px 1px rgba(60, 64, 67, 0.15);\n",
              "      fill: #174EA6;\n",
              "    }\n",
              "\n",
              "    .colab-df-buttons div {\n",
              "      margin-bottom: 4px;\n",
              "    }\n",
              "\n",
              "    [theme=dark] .colab-df-convert {\n",
              "      background-color: #3B4455;\n",
              "      fill: #D2E3FC;\n",
              "    }\n",
              "\n",
              "    [theme=dark] .colab-df-convert:hover {\n",
              "      background-color: #434B5C;\n",
              "      box-shadow: 0px 1px 3px 1px rgba(0, 0, 0, 0.15);\n",
              "      filter: drop-shadow(0px 1px 2px rgba(0, 0, 0, 0.3));\n",
              "      fill: #FFFFFF;\n",
              "    }\n",
              "  </style>\n",
              "\n",
              "    <script>\n",
              "      const buttonEl =\n",
              "        document.querySelector('#df-2f30a9e2-055c-427d-980c-49d004472055 button.colab-df-convert');\n",
              "      buttonEl.style.display =\n",
              "        google.colab.kernel.accessAllowed ? 'block' : 'none';\n",
              "\n",
              "      async function convertToInteractive(key) {\n",
              "        const element = document.querySelector('#df-2f30a9e2-055c-427d-980c-49d004472055');\n",
              "        const dataTable =\n",
              "          await google.colab.kernel.invokeFunction('convertToInteractive',\n",
              "                                                    [key], {});\n",
              "        if (!dataTable) return;\n",
              "\n",
              "        const docLinkHtml = 'Like what you see? Visit the ' +\n",
              "          '<a target=\"_blank\" href=https://colab.research.google.com/notebooks/data_table.ipynb>data table notebook</a>'\n",
              "          + ' to learn more about interactive tables.';\n",
              "        element.innerHTML = '';\n",
              "        dataTable['output_type'] = 'display_data';\n",
              "        await google.colab.output.renderOutput(dataTable, element);\n",
              "        const docLink = document.createElement('div');\n",
              "        docLink.innerHTML = docLinkHtml;\n",
              "        element.appendChild(docLink);\n",
              "      }\n",
              "    </script>\n",
              "  </div>\n",
              "\n",
              "\n",
              "    <div id=\"df-9e240b61-ea4b-4a4f-a2c0-3cc63bb21316\">\n",
              "      <button class=\"colab-df-quickchart\" onclick=\"quickchart('df-9e240b61-ea4b-4a4f-a2c0-3cc63bb21316')\"\n",
              "                title=\"Suggest charts\"\n",
              "                style=\"display:none;\">\n",
              "\n",
              "<svg xmlns=\"http://www.w3.org/2000/svg\" height=\"24px\"viewBox=\"0 0 24 24\"\n",
              "     width=\"24px\">\n",
              "    <g>\n",
              "        <path d=\"M19 3H5c-1.1 0-2 .9-2 2v14c0 1.1.9 2 2 2h14c1.1 0 2-.9 2-2V5c0-1.1-.9-2-2-2zM9 17H7v-7h2v7zm4 0h-2V7h2v10zm4 0h-2v-4h2v4z\"/>\n",
              "    </g>\n",
              "</svg>\n",
              "      </button>\n",
              "\n",
              "<style>\n",
              "  .colab-df-quickchart {\n",
              "      --bg-color: #E8F0FE;\n",
              "      --fill-color: #1967D2;\n",
              "      --hover-bg-color: #E2EBFA;\n",
              "      --hover-fill-color: #174EA6;\n",
              "      --disabled-fill-color: #AAA;\n",
              "      --disabled-bg-color: #DDD;\n",
              "  }\n",
              "\n",
              "  [theme=dark] .colab-df-quickchart {\n",
              "      --bg-color: #3B4455;\n",
              "      --fill-color: #D2E3FC;\n",
              "      --hover-bg-color: #434B5C;\n",
              "      --hover-fill-color: #FFFFFF;\n",
              "      --disabled-bg-color: #3B4455;\n",
              "      --disabled-fill-color: #666;\n",
              "  }\n",
              "\n",
              "  .colab-df-quickchart {\n",
              "    background-color: var(--bg-color);\n",
              "    border: none;\n",
              "    border-radius: 50%;\n",
              "    cursor: pointer;\n",
              "    display: none;\n",
              "    fill: var(--fill-color);\n",
              "    height: 32px;\n",
              "    padding: 0;\n",
              "    width: 32px;\n",
              "  }\n",
              "\n",
              "  .colab-df-quickchart:hover {\n",
              "    background-color: var(--hover-bg-color);\n",
              "    box-shadow: 0 1px 2px rgba(60, 64, 67, 0.3), 0 1px 3px 1px rgba(60, 64, 67, 0.15);\n",
              "    fill: var(--button-hover-fill-color);\n",
              "  }\n",
              "\n",
              "  .colab-df-quickchart-complete:disabled,\n",
              "  .colab-df-quickchart-complete:disabled:hover {\n",
              "    background-color: var(--disabled-bg-color);\n",
              "    fill: var(--disabled-fill-color);\n",
              "    box-shadow: none;\n",
              "  }\n",
              "\n",
              "  .colab-df-spinner {\n",
              "    border: 2px solid var(--fill-color);\n",
              "    border-color: transparent;\n",
              "    border-bottom-color: var(--fill-color);\n",
              "    animation:\n",
              "      spin 1s steps(1) infinite;\n",
              "  }\n",
              "\n",
              "  @keyframes spin {\n",
              "    0% {\n",
              "      border-color: transparent;\n",
              "      border-bottom-color: var(--fill-color);\n",
              "      border-left-color: var(--fill-color);\n",
              "    }\n",
              "    20% {\n",
              "      border-color: transparent;\n",
              "      border-left-color: var(--fill-color);\n",
              "      border-top-color: var(--fill-color);\n",
              "    }\n",
              "    30% {\n",
              "      border-color: transparent;\n",
              "      border-left-color: var(--fill-color);\n",
              "      border-top-color: var(--fill-color);\n",
              "      border-right-color: var(--fill-color);\n",
              "    }\n",
              "    40% {\n",
              "      border-color: transparent;\n",
              "      border-right-color: var(--fill-color);\n",
              "      border-top-color: var(--fill-color);\n",
              "    }\n",
              "    60% {\n",
              "      border-color: transparent;\n",
              "      border-right-color: var(--fill-color);\n",
              "    }\n",
              "    80% {\n",
              "      border-color: transparent;\n",
              "      border-right-color: var(--fill-color);\n",
              "      border-bottom-color: var(--fill-color);\n",
              "    }\n",
              "    90% {\n",
              "      border-color: transparent;\n",
              "      border-bottom-color: var(--fill-color);\n",
              "    }\n",
              "  }\n",
              "</style>\n",
              "\n",
              "      <script>\n",
              "        async function quickchart(key) {\n",
              "          const quickchartButtonEl =\n",
              "            document.querySelector('#' + key + ' button');\n",
              "          quickchartButtonEl.disabled = true;  // To prevent multiple clicks.\n",
              "          quickchartButtonEl.classList.add('colab-df-spinner');\n",
              "          try {\n",
              "            const charts = await google.colab.kernel.invokeFunction(\n",
              "                'suggestCharts', [key], {});\n",
              "          } catch (error) {\n",
              "            console.error('Error during call to suggestCharts:', error);\n",
              "          }\n",
              "          quickchartButtonEl.classList.remove('colab-df-spinner');\n",
              "          quickchartButtonEl.classList.add('colab-df-quickchart-complete');\n",
              "        }\n",
              "        (() => {\n",
              "          let quickchartButtonEl =\n",
              "            document.querySelector('#df-9e240b61-ea4b-4a4f-a2c0-3cc63bb21316 button');\n",
              "          quickchartButtonEl.style.display =\n",
              "            google.colab.kernel.accessAllowed ? 'block' : 'none';\n",
              "        })();\n",
              "      </script>\n",
              "    </div>\n",
              "\n",
              "    </div>\n",
              "  </div>\n"
            ],
            "application/vnd.google.colaboratory.intrinsic+json": {
              "type": "dataframe",
              "variable_name": "swiss_df",
              "summary": "{\n  \"name\": \"swiss_df\",\n  \"rows\": 23,\n  \"fields\": [\n    {\n      \"column\": \"year\",\n      \"properties\": {\n        \"dtype\": \"number\",\n        \"std\": 7,\n        \"min\": 2000,\n        \"max\": 2023,\n        \"num_unique_values\": 23,\n        \"samples\": [\n          2016,\n          2009,\n          2000\n        ],\n        \"semantic_type\": \"\",\n        \"description\": \"\"\n      }\n    },\n    {\n      \"column\": \"no2\",\n      \"properties\": {\n        \"dtype\": \"number\",\n        \"std\": 8.623879889459621,\n        \"min\": 23.8,\n        \"max\": 52.3,\n        \"num_unique_values\": 23,\n        \"samples\": [\n          36.8,\n          47.1,\n          49.2\n        ],\n        \"semantic_type\": \"\",\n        \"description\": \"\"\n      }\n    },\n    {\n      \"column\": \"population\",\n      \"properties\": {\n        \"dtype\": \"number\",\n        \"std\": 566979,\n        \"min\": 7204000,\n        \"max\": 8962258,\n        \"num_unique_values\": 23,\n        \"samples\": [\n          8419550,\n          7785806,\n          7204000\n        ],\n        \"semantic_type\": \"\",\n        \"description\": \"\"\n      }\n    },\n    {\n      \"column\": \"avg_temp\",\n      \"properties\": {\n        \"dtype\": \"number\",\n        \"std\": 0.6271467479611617,\n        \"min\": 4.99,\n        \"max\": 7.42,\n        \"num_unique_values\": 23,\n        \"samples\": [\n          6.07,\n          5.8,\n          5.99\n        ],\n        \"semantic_type\": \"\",\n        \"description\": \"\"\n      }\n    },\n    {\n      \"column\": \"industry_pct_gdp\",\n      \"properties\": {\n        \"dtype\": \"number\",\n        \"std\": 0.7276184625870329,\n        \"min\": 24.0899792080479,\n        \"max\": 26.4339765068788,\n        \"num_unique_values\": 23,\n        \"samples\": [\n          24.0899792080479,\n          24.7427872310642,\n          25.4681959795745\n        ],\n        \"semantic_type\": \"\",\n        \"description\": \"\"\n      }\n    },\n    {\n      \"column\": \"Electricity\",\n      \"properties\": {\n        \"dtype\": \"number\",\n        \"std\": 48490.33798444645,\n        \"min\": 4660.0,\n        \"max\": 191847.0,\n        \"num_unique_values\": 23,\n        \"samples\": [\n          26294.0,\n          5452.0,\n          5188.0\n        ],\n        \"semantic_type\": \"\",\n        \"description\": \"\"\n      }\n    },\n    {\n      \"column\": \"Fossil\",\n      \"properties\": {\n        \"dtype\": \"number\",\n        \"std\": 553902.4862191636,\n        \"min\": 4579530.0,\n        \"max\": 6253275.0,\n        \"num_unique_values\": 23,\n        \"samples\": [\n          5954218.0,\n          5267845.0,\n          4579530.0\n        ],\n        \"semantic_type\": \"\",\n        \"description\": \"\"\n      }\n    },\n    {\n      \"column\": \"EV Share\",\n      \"properties\": {\n        \"dtype\": \"number\",\n        \"std\": 0.007695999318796507,\n        \"min\": 0.0009002875130411423,\n        \"max\": 0.030679443971359008,\n        \"num_unique_values\": 23,\n        \"samples\": [\n          0.004416029107432748,\n          0.0010349583178700208,\n          0.0011328673466491103\n        ],\n        \"semantic_type\": \"\",\n        \"description\": \"\"\n      }\n    },\n    {\n      \"column\": \"log_population\",\n      \"properties\": {\n        \"dtype\": \"number\",\n        \"std\": 0.07075396303250747,\n        \"min\": 15.790146985277984,\n        \"max\": 16.00853276213077,\n        \"num_unique_values\": 23,\n        \"samples\": [\n          15.946066940609796,\n          15.867812890325292,\n          15.790146985277984\n        ],\n        \"semantic_type\": \"\",\n        \"description\": \"\"\n      }\n    }\n  ]\n}"
            }
          },
          "metadata": {},
          "execution_count": 42
        }
      ]
    },
    {
      "cell_type": "markdown",
      "source": [
        "# Train-Test with only EV% and NO2"
      ],
      "metadata": {
        "id": "G2ULsD2iN9BF"
      }
    },
    {
      "cell_type": "markdown",
      "source": [
        "Linear regression"
      ],
      "metadata": {
        "id": "kYkF_O1NO1D4"
      }
    },
    {
      "cell_type": "code",
      "source": [
        "# Define X and y\n",
        "X = swiss_df[['EV Share']]\n",
        "y = swiss_df[['no2']]\n",
        "\n",
        "# Split the data\n",
        "from sklearn.model_selection import train_test_split\n",
        "X_train, X_test, y_train, y_test = train_test_split(X, y, test_size=0.2, random_state=0)\n",
        "\n",
        "# Fit linear regression\n",
        "from sklearn.linear_model import LinearRegression\n",
        "model = LinearRegression()\n",
        "model.fit(X_train, y_train)\n",
        "\n",
        "# Predict and evaluate\n",
        "y_pred = model.predict(X_test)\n",
        "\n",
        "from sklearn.metrics import mean_squared_error, mean_absolute_error, r2_score\n",
        "print(\"MSE:\", mean_squared_error(y_test, y_pred))\n",
        "print(\"MAE:\", mean_absolute_error(y_test, y_pred))\n",
        "print(\"R² Score:\", r2_score(y_test, y_pred))"
      ],
      "metadata": {
        "colab": {
          "base_uri": "https://localhost:8080/"
        },
        "id": "Eqw-hm1kMyrX",
        "outputId": "34238499-07e6-47b6-ccfd-d9004eda943a"
      },
      "execution_count": 43,
      "outputs": [
        {
          "output_type": "stream",
          "name": "stdout",
          "text": [
            "MSE: 7.844356508159256\n",
            "MAE: 2.6895179856170808\n",
            "R² Score: 0.8466701229835955\n"
          ]
        }
      ]
    },
    {
      "cell_type": "code",
      "source": [
        "from sklearn.model_selection import KFold, cross_val_score\n",
        "from sklearn.linear_model import LinearRegression\n",
        "from sklearn.metrics import make_scorer, mean_squared_error, mean_absolute_error, r2_score\n",
        "import numpy as np\n",
        "\n",
        "# Define X and y\n",
        "X = swiss_df[['EV Share']]\n",
        "y = swiss_df[['no2']]\n",
        "\n",
        "# Initialize model\n",
        "model = LinearRegression()\n",
        "\n",
        "# Set up 5-Fold Cross-Validation\n",
        "kf = KFold(n_splits=5, shuffle=True, random_state=0)\n",
        "\n",
        "# Define custom scoring functions\n",
        "mse_scorer = make_scorer(mean_squared_error)\n",
        "mae_scorer = make_scorer(mean_absolute_error)\n",
        "r2_scorer = make_scorer(r2_score)\n",
        "\n",
        "# Perform cross-validation\n",
        "mse_scores = cross_val_score(model, X, y, cv=kf, scoring=mse_scorer)\n",
        "mae_scores = cross_val_score(model, X, y, cv=kf, scoring=mae_scorer)\n",
        "r2_scores = cross_val_score(model, X, y, cv=kf, scoring=r2_scorer)\n",
        "\n",
        "# Print average scores\n",
        "print(\"Average MSE:\", np.mean(mse_scores))\n",
        "print(\"Average MAE:\", np.mean(mae_scores))\n",
        "print(\"Average R² Score:\", np.mean(r2_scores))\n"
      ],
      "metadata": {
        "id": "40Zm_fTZVJLy",
        "outputId": "1b4ec2af-c9b0-4397-dd73-b89316f1b870",
        "colab": {
          "base_uri": "https://localhost:8080/"
        }
      },
      "execution_count": 64,
      "outputs": [
        {
          "output_type": "stream",
          "name": "stdout",
          "text": [
            "Average MSE: 30.679816697881922\n",
            "Average MAE: 4.526096283091892\n",
            "Average R² Score: 0.37204471606258044\n"
          ]
        }
      ]
    },
    {
      "cell_type": "code",
      "source": [
        "# Define X and y\n",
        "X = swiss_df[['EV Share']]\n",
        "y = swiss_df[['no2']]\n",
        "\n",
        "# Fit the regression model on the full data\n",
        "model = LinearRegression()\n",
        "model.fit(X, y)\n",
        "\n",
        "# Predict y values using the fitted model\n",
        "y_pred = model.predict(X)\n",
        "\n",
        "# Plot actual data and regression line\n",
        "plt.figure(figsize=(8, 6))\n",
        "plt.scatter(X, y, color='blue', label='Actual NO2')\n",
        "plt.plot(X, y_pred, color='red', linewidth=2, label='Regression Line')\n",
        "plt.xlabel('EV Share')\n",
        "plt.ylabel('NO2')\n",
        "plt.title('Linear Regression: EV Share vs NO2')\n",
        "plt.legend()\n",
        "plt.grid(True)\n",
        "plt.tight_layout()\n",
        "plt.show()"
      ],
      "metadata": {
        "id": "LzcaCtJHHt_8",
        "outputId": "564acbd4-118e-4add-e30e-c3b4b71096e6",
        "colab": {
          "base_uri": "https://localhost:8080/",
          "height": 607
        }
      },
      "execution_count": 55,
      "outputs": [
        {
          "output_type": "display_data",
          "data": {
            "text/plain": [
              "<Figure size 800x600 with 1 Axes>"
            ],
            "image/png": "[encoded data removed]"
          },
          "metadata": {}
        }
      ]
    },
    {
      "cell_type": "markdown",
      "source": [
        "polynomial regression degree 2"
      ],
      "metadata": {
        "id": "jBesZGN_O3Z1"
      }
    },
    {
      "cell_type": "code",
      "source": [
        "from sklearn.preprocessing import PolynomialFeatures\n",
        "from sklearn.linear_model import LinearRegression\n",
        "from sklearn.model_selection import train_test_split\n",
        "from sklearn.metrics import mean_squared_error, mean_absolute_error, r2_score\n",
        "import matplotlib.pyplot as plt\n",
        "\n",
        "# 2. Define X and y\n",
        "X = swiss_df[['EV Share']]\n",
        "y = swiss_df[['no2']]\n",
        "\n",
        "# 3. Transform features into polynomial (degree = 2)\n",
        "poly = PolynomialFeatures(degree=2)\n",
        "X_poly = poly.fit_transform(X)\n",
        "\n",
        "# 4. Split the data\n",
        "X_train, X_test, y_train, y_test = train_test_split(X_poly, y, test_size=0.2, random_state=0)\n",
        "\n",
        "# 5. Fit the model\n",
        "model = LinearRegression()\n",
        "model.fit(X_train, y_train)\n",
        "\n",
        "# 6. Predict and evaluate\n",
        "y_pred = model.predict(X_test)\n",
        "\n",
        "print(\"MSE:\", mean_squared_error(y_test, y_pred))\n",
        "print(\"MAE:\", mean_absolute_error(y_test, y_pred))\n",
        "print(\"R² Score:\", r2_score(y_test, y_pred))\n",
        "\n",
        "# 7. Plot the curve\n",
        "import numpy as np\n",
        "x_range = np.linspace(X['EV Share'].min(), X['EV Share'].max(), 100).reshape(-1, 1)\n",
        "x_range_poly = poly.transform(x_range)\n",
        "y_range_pred = model.predict(x_range_poly)\n",
        "\n",
        "plt.scatter(X, y, label='True NO₂')\n",
        "plt.plot(x_range, y_range_pred, color='red', label='Polynomial Fit (deg=2)')\n",
        "plt.xlabel('% EV Share')\n",
        "plt.ylabel('NO₂ [μg/m³]')\n",
        "plt.title('Polynomial Regression: EV Share vs NO₂ Emissions')\n",
        "plt.legend()\n",
        "plt.show()"
      ],
      "metadata": {
        "colab": {
          "base_uri": "https://localhost:8080/",
          "height": 581
        },
        "id": "80Sz8XbROPOg",
        "outputId": "c66a9ec6-ab90-45d4-b587-c4f084bbb192"
      },
      "execution_count": 53,
      "outputs": [
        {
          "output_type": "stream",
          "name": "stdout",
          "text": [
            "MSE: 28.586091072446266\n",
            "MAE: 4.450032754749516\n",
            "R² Score: 0.4412413785682904\n"
          ]
        },
        {
          "output_type": "stream",
          "name": "stderr",
          "text": [
            "/usr/local/lib/python3.11/dist-packages/sklearn/utils/validation.py:2739: UserWarning: X does not have valid feature names, but PolynomialFeatures was fitted with feature names\n",
            "  warnings.warn(\n"
          ]
        },
        {
          "output_type": "display_data",
          "data": {
            "text/plain": [
              "<Figure size 640x480 with 1 Axes>"
            ],
            "image/png": "[encoded data removed]"
          },
          "metadata": {}
        }
      ]
    },
    {
      "cell_type": "code",
      "source": [
        "from sklearn.preprocessing import PolynomialFeatures\n",
        "from sklearn.linear_model import LinearRegression\n",
        "from sklearn.model_selection import KFold, cross_val_score\n",
        "from sklearn.pipeline import make_pipeline\n",
        "from sklearn.metrics import make_scorer, mean_squared_error, mean_absolute_error, r2_score\n",
        "import numpy as np\n",
        "\n",
        "# Define X and y\n",
        "X = swiss_df[['EV Share']]\n",
        "y = swiss_df[['no2']]\n",
        "\n",
        "# Define the pipeline: PolynomialFeatures + LinearRegression\n",
        "degree = 2\n",
        "model = make_pipeline(PolynomialFeatures(degree=degree), LinearRegression())\n",
        "\n",
        "# Set up K-Fold cross-validation\n",
        "kf = KFold(n_splits=5, shuffle=True, random_state=0)\n",
        "\n",
        "# Define scorers\n",
        "mse_scorer = make_scorer(mean_squared_error)\n",
        "mae_scorer = make_scorer(mean_absolute_error)\n",
        "r2_scorer = make_scorer(r2_score)\n",
        "\n",
        "# Perform cross-validation\n",
        "mse_scores = cross_val_score(model, X, y, cv=kf, scoring=mse_scorer)\n",
        "mae_scores = cross_val_score(model, X, y, cv=kf, scoring=mae_scorer)\n",
        "r2_scores = cross_val_score(model, X, y, cv=kf, scoring=r2_scorer)\n",
        "\n",
        "# Print average scores\n",
        "print(\"Polynomial degree:\", degree)\n",
        "print(\"Average MSE:\", np.mean(mse_scores))\n",
        "print(\"Average MAE:\", np.mean(mae_scores))\n",
        "print(\"Average R² Score:\", np.mean(r2_scores))\n"
      ],
      "metadata": {
        "id": "_dImgEuaWNAx",
        "outputId": "a6c2282d-da5e-48cb-929c-ee9bf546461c",
        "colab": {
          "base_uri": "https://localhost:8080/"
        }
      },
      "execution_count": 65,
      "outputs": [
        {
          "output_type": "stream",
          "name": "stdout",
          "text": [
            "Polynomial degree: 2\n",
            "Average MSE: 25.679067974311334\n",
            "Average MAE: 3.350482465188631\n",
            "Average R² Score: 0.5110139770652965\n"
          ]
        }
      ]
    },
    {
      "cell_type": "markdown",
      "source": [
        "Polynomial regression degree 2"
      ],
      "metadata": {
        "id": "VMeV3TtfFOh6"
      }
    },
    {
      "cell_type": "code",
      "source": [
        "from sklearn.preprocessing import PolynomialFeatures\n",
        "from sklearn.linear_model import LinearRegression\n",
        "from sklearn.model_selection import train_test_split\n",
        "from sklearn.metrics import mean_squared_error, mean_absolute_error, r2_score\n",
        "import matplotlib.pyplot as plt\n",
        "\n",
        "# 2. Define X and y\n",
        "X = swiss_df[['EV Share']]\n",
        "y = swiss_df[['no2']]\n",
        "\n",
        "# 3. Transform features into polynomial (degree = 3)\n",
        "poly = PolynomialFeatures(degree=3)\n",
        "X_poly = poly.fit_transform(X)\n",
        "\n",
        "# 4. Split the data\n",
        "X_train, X_test, y_train, y_test = train_test_split(X_poly, y, test_size=0.2, random_state=0)\n",
        "\n",
        "# 5. Fit the model\n",
        "model = LinearRegression()\n",
        "model.fit(X_train, y_train)\n",
        "\n",
        "# 6. Predict and evaluate\n",
        "y_pred = model.predict(X_test)\n",
        "\n",
        "print(\"MSE:\", mean_squared_error(y_test, y_pred))\n",
        "print(\"MAE:\", mean_absolute_error(y_test, y_pred))\n",
        "print(\"R² Score:\", r2_score(y_test, y_pred))\n",
        "\n",
        "# 7. Plot the curve\n",
        "import numpy as np\n",
        "x_range = np.linspace(X['EV Share'].min(), X['EV Share'].max(), 100).reshape(-1, 1)\n",
        "x_range_poly = poly.transform(x_range)\n",
        "y_range_pred = model.predict(x_range_poly)\n",
        "\n",
        "plt.scatter(X, y, label='True NO₂')\n",
        "plt.plot(x_range, y_range_pred, color='red', label='Polynomial Fit (deg=2)')\n",
        "plt.xlabel('EV Share')\n",
        "plt.ylabel('NO₂ [μg/m³]')\n",
        "plt.title('Polynomial Regression: EV Share vs NO₂ Emissions')\n",
        "plt.legend()\n",
        "plt.show()"
      ],
      "metadata": {
        "id": "XMiSg-mGFNE4",
        "outputId": "237960e3-8305-461f-d785-42488c842d51",
        "colab": {
          "base_uri": "https://localhost:8080/",
          "height": 581
        }
      },
      "execution_count": 54,
      "outputs": [
        {
          "output_type": "stream",
          "name": "stdout",
          "text": [
            "MSE: 4.24740622954743\n",
            "MAE: 1.6596351117874115\n",
            "R² Score: 0.9169779861308165\n"
          ]
        },
        {
          "output_type": "stream",
          "name": "stderr",
          "text": [
            "/usr/local/lib/python3.11/dist-packages/sklearn/utils/validation.py:2739: UserWarning: X does not have valid feature names, but PolynomialFeatures was fitted with feature names\n",
            "  warnings.warn(\n"
          ]
        },
        {
          "output_type": "display_data",
          "data": {
            "text/plain": [
              "<Figure size 640x480 with 1 Axes>"
            ],
            "image/png": "[encoded data removed]"
          },
          "metadata": {}
        }
      ]
    },
    {
      "cell_type": "code",
      "source": [
        "from sklearn.preprocessing import PolynomialFeatures\n",
        "from sklearn.linear_model import LinearRegression\n",
        "from sklearn.model_selection import KFold, cross_val_score\n",
        "from sklearn.pipeline import make_pipeline\n",
        "from sklearn.metrics import make_scorer, mean_squared_error, mean_absolute_error, r2_score\n",
        "import numpy as np\n",
        "\n",
        "# Define X and y\n",
        "X = swiss_df[['EV Share']]\n",
        "y = swiss_df[['no2']]\n",
        "\n",
        "# Define the pipeline for Polynomial Regression with degree 3\n",
        "degree = 3\n",
        "model = make_pipeline(PolynomialFeatures(degree=degree), LinearRegression())\n",
        "\n",
        "# Set up K-Fold cross-validation\n",
        "kf = KFold(n_splits=5, shuffle=True, random_state=0)\n",
        "\n",
        "# Define scorers\n",
        "mse_scorer = make_scorer(mean_squared_error)\n",
        "mae_scorer = make_scorer(mean_absolute_error)\n",
        "r2_scorer = make_scorer(r2_score)\n",
        "\n",
        "# Perform cross-validation\n",
        "mse_scores = cross_val_score(model, X, y, cv=kf, scoring=mse_scorer)\n",
        "mae_scores = cross_val_score(model, X, y, cv=kf, scoring=mae_scorer)\n",
        "r2_scores = cross_val_score(model, X, y, cv=kf, scoring=r2_scorer)\n",
        "\n",
        "# Print results\n",
        "print(\"Polynomial degree:\", degree)\n",
        "print(\"Average MSE:\", np.mean(mse_scores))\n",
        "print(\"Average MAE:\", np.mean(mae_scores))\n",
        "print(\"Average R² Score:\", np.mean(r2_scores))\n"
      ],
      "metadata": {
        "id": "Gq_vtM9WXK2K",
        "outputId": "83901c45-9020-450b-e66f-71134881fce2",
        "colab": {
          "base_uri": "https://localhost:8080/"
        }
      },
      "execution_count": 67,
      "outputs": [
        {
          "output_type": "stream",
          "name": "stdout",
          "text": [
            "Polynomial degree: 3\n",
            "Average MSE: 8.918131479588222\n",
            "Average MAE: 2.1746533366078613\n",
            "Average R² Score: 0.8151204025989995\n"
          ]
        }
      ]
    },
    {
      "cell_type": "markdown",
      "source": [
        "# K-Fold cross-validation for the polynomial regression"
      ],
      "metadata": {
        "id": "eT7mcIZvPNyz"
      }
    },
    {
      "cell_type": "code",
      "source": [
        "from sklearn.model_selection import KFold, cross_val_score\n",
        "from sklearn.pipeline import make_pipeline\n",
        "from sklearn.preprocessing import PolynomialFeatures\n",
        "from sklearn.linear_model import LinearRegression\n",
        "from sklearn.metrics import mean_squared_error\n",
        "import numpy as np\n",
        "\n",
        "# Use full data\n",
        "X = swiss_df[['EV Share']]\n",
        "y = swiss_df[['no2']]\n",
        "\n",
        "# Create polynomial regression pipeline (degree 2)\n",
        "model = make_pipeline(PolynomialFeatures(degree=2), LinearRegression())\n",
        "\n",
        "# Define 5-fold CV\n",
        "kf = KFold(n_splits=5, shuffle=True, random_state=42)\n",
        "\n",
        "# Run cross-validation for MSE\n",
        "cv_mse_scores = cross_val_score(model, X, y, cv=kf, scoring='neg_mean_squared_error')\n",
        "cv_r2_scores = cross_val_score(model, X, y, cv=kf, scoring='r2')\n",
        "\n",
        "# Convert negative MSE to positive\n",
        "mse_scores = -cv_mse_scores\n",
        "\n",
        "# Print results\n",
        "print(\"MSE scores (per fold):\", mse_scores)\n",
        "print(\"Average MSE:\", np.mean(mse_scores))\n",
        "print(\"R² scores (per fold):\", cv_r2_scores)\n",
        "print(\"Average R²:\", np.mean(cv_r2_scores))\n"
      ],
      "metadata": {
        "colab": {
          "base_uri": "https://localhost:8080/"
        },
        "id": "P5hK25HnPRoq",
        "outputId": "f2a3b773-6934-4677-96fb-1526b37ab887"
      },
      "execution_count": 63,
      "outputs": [
        {
          "output_type": "stream",
          "name": "stdout",
          "text": [
            "MSE scores (per fold): [  3.00592201   7.03526986  10.29731035 577.1052607   11.99404581]\n",
            "Average MSE: 121.88756174386815\n",
            "R² scores (per fold): [ 0.90567585  0.53040597  0.87711806 -5.57805684  0.85126777]\n",
            "Average R²: -0.48271783845190325\n"
          ]
        }
      ]
    },
    {
      "cell_type": "markdown",
      "source": [
        "# Multivariate train-test"
      ],
      "metadata": {
        "id": "8Xfs-9Q4AzY0"
      }
    },
    {
      "cell_type": "markdown",
      "source": [
        "# Power Point - Full form train test"
      ],
      "metadata": {
        "id": "xc9bPgf3ARgK"
      }
    },
    {
      "cell_type": "code",
      "source": [
        "#Multivariate linear\n",
        "# Define features and target\n",
        "X = swiss_df[['EV Share', 'avg_temp', 'log_population', 'industry_pct_gdp']]\n",
        "y = swiss_df[['no2']]\n",
        "\n",
        "# Train-test split\n",
        "from sklearn.model_selection import train_test_split\n",
        "X_train, X_test, y_train, y_test = train_test_split(X, y, test_size=0.2, random_state=0)\n",
        "\n",
        "# Fit model\n",
        "from sklearn.linear_model import LinearRegression\n",
        "model = LinearRegression()\n",
        "model.fit(X_train, y_train)\n",
        "\n",
        "# Predict and evaluate\n",
        "from sklearn.metrics import mean_squared_error, mean_absolute_error, r2_score\n",
        "y_pred = model.predict(X_test)\n",
        "\n",
        "print(\"MSE:\", mean_squared_error(y_test, y_pred))\n",
        "print(\"MAE:\", mean_absolute_error(y_test, y_pred))\n",
        "print(\"R² Score:\", r2_score(y_test, y_pred))"
      ],
      "metadata": {
        "id": "SSibCQT3SiTW",
        "outputId": "67f817a0-d30b-4691-8438-e163eaa7cb51",
        "colab": {
          "base_uri": "https://localhost:8080/"
        }
      },
      "execution_count": 57,
      "outputs": [
        {
          "output_type": "stream",
          "name": "stdout",
          "text": [
            "MSE: 3.0495988162709997\n",
            "MAE: 1.3006357942608424\n",
            "R² Score: 0.9403909535521696\n"
          ]
        }
      ]
    },
    {
      "cell_type": "code",
      "source": [
        "#k flold cross check for multivariate linear\n",
        "from sklearn.linear_model import LinearRegression\n",
        "from sklearn.model_selection import KFold, cross_val_score\n",
        "from sklearn.metrics import make_scorer, mean_squared_error, mean_absolute_error, r2_score\n",
        "import numpy as np\n",
        "\n",
        "# Define X and y\n",
        "X = swiss_df[['EV Share', 'avg_temp', 'log_population', 'industry_pct_gdp']]\n",
        "y = swiss_df[['no2']]\n",
        "\n",
        "# Initialize model\n",
        "model = LinearRegression()\n",
        "\n",
        "# Set up K-Fold cross-validation\n",
        "kf = KFold(n_splits=5, shuffle=True, random_state=0)\n",
        "\n",
        "# Define scorers\n",
        "mse_scorer = make_scorer(mean_squared_error)\n",
        "mae_scorer = make_scorer(mean_absolute_error)\n",
        "r2_scorer = make_scorer(r2_score)\n",
        "\n",
        "# Run cross-validation\n",
        "mse_scores = cross_val_score(model, X, y, cv=kf, scoring=mse_scorer)\n",
        "mae_scores = cross_val_score(model, X, y, cv=kf, scoring=mae_scorer)\n",
        "r2_scores = cross_val_score(model, X, y, cv=kf, scoring=r2_scorer)\n",
        "\n",
        "# Print results\n",
        "print(\"Average MSE:\", np.mean(mse_scores))\n",
        "print(\"Average MAE:\", np.mean(mae_scores))\n",
        "print(\"Average R² Score:\", np.mean(r2_scores))\n"
      ],
      "metadata": {
        "id": "gzSeGeiSYPc1",
        "outputId": "d66bd8eb-ee05-4340-cd6a-ddaf27ff8878",
        "colab": {
          "base_uri": "https://localhost:8080/"
        }
      },
      "execution_count": 69,
      "outputs": [
        {
          "output_type": "stream",
          "name": "stdout",
          "text": [
            "Average MSE: 9.519665304795282\n",
            "Average MAE: 2.356095590591263\n",
            "Average R² Score: 0.81081157597595\n"
          ]
        }
      ]
    },
    {
      "cell_type": "code",
      "source": [],
      "metadata": {
        "id": "rWrhdMqSYd6Z"
      },
      "execution_count": null,
      "outputs": []
    },
    {
      "cell_type": "code",
      "source": [
        "import pandas as pd\n",
        "import statsmodels.api as sm\n",
        "from statsmodels.stats.outliers_influence import variance_inflation_factor\n",
        "\n",
        "X = swiss_df[['EV Share', 'avg_temp', 'log_population', 'industry_pct_gdp']]\n",
        "X_const = sm.add_constant(X)\n",
        "y = swiss_df['no2']\n",
        "\n",
        "model = sm.OLS(y, X_const).fit()\n",
        "print(model.summary())"
      ],
      "metadata": {
        "colab": {
          "base_uri": "https://localhost:8080/"
        },
        "id": "nSRHNd7dEhKg",
        "outputId": "b2526ed7-60e1-45d4-b157-52e0e8f3d3b4"
      },
      "execution_count": 68,
      "outputs": [
        {
          "output_type": "stream",
          "name": "stdout",
          "text": [
            "                            OLS Regression Results                            \n",
            "==============================================================================\n",
            "Dep. Variable:                    no2   R-squared:                       0.911\n",
            "Model:                            OLS   Adj. R-squared:                  0.891\n",
            "Method:                 Least Squares   F-statistic:                     45.85\n",
            "Date:                Sun, 18 May 2025   Prob (F-statistic):           3.34e-09\n",
            "Time:                        17:11:06   Log-Likelihood:                -53.907\n",
            "No. Observations:                  23   AIC:                             117.8\n",
            "Df Residuals:                      18   BIC:                             123.5\n",
            "Df Model:                           4                                         \n",
            "Covariance Type:            nonrobust                                         \n",
            "====================================================================================\n",
            "                       coef    std err          t      P>|t|      [0.025      0.975]\n",
            "------------------------------------------------------------------------------------\n",
            "const             1561.0535    398.210      3.920      0.001     724.444    2397.663\n",
            "EV Share          -334.2685    162.977     -2.051      0.055    -676.671       8.134\n",
            "avg_temp            -0.2730      1.346     -0.203      0.842      -3.102       2.556\n",
            "log_population     -93.3117     22.998     -4.057      0.001    -141.630     -44.994\n",
            "industry_pct_gdp    -1.3343      1.586     -0.841      0.411      -4.667       1.999\n",
            "==============================================================================\n",
            "Omnibus:                        4.178   Durbin-Watson:                   1.328\n",
            "Prob(Omnibus):                  0.124   Jarque-Bera (JB):                2.284\n",
            "Skew:                          -0.632   Prob(JB):                        0.319\n",
            "Kurtosis:                       3.886   Cond. No.                     2.15e+04\n",
            "==============================================================================\n",
            "\n",
            "Notes:\n",
            "[1] Standard Errors assume that the covariance matrix of the errors is correctly specified.\n",
            "[2] The condition number is large, 2.15e+04. This might indicate that there are\n",
            "strong multicollinearity or other numerical problems.\n"
          ]
        }
      ]
    }
  ]
}